{
 "cells": [
  {
   "cell_type": "code",
   "id": "initial_id",
   "metadata": {
    "collapsed": true,
    "ExecuteTime": {
     "end_time": "2025-10-01T09:57:10.500994Z",
     "start_time": "2025-10-01T09:57:10.498213Z"
    }
   },
   "source": [
    "import pandas as pd\n",
    "import talib"
   ],
   "outputs": [],
   "execution_count": 82
  },
  {
   "cell_type": "code",
   "source": [
    "daily = pd.read_excel('gbp_usd_1D.xlsx')\n",
    "h1 = pd.read_excel('gbp_usd_1h.xlsx')"
   ],
   "metadata": {
    "collapsed": false,
    "ExecuteTime": {
     "end_time": "2025-10-01T09:57:12.609523Z",
     "start_time": "2025-10-01T09:57:10.653318Z"
    }
   },
   "id": "e2a01cca881a4f5",
   "outputs": [],
   "execution_count": 83
  },
  {
   "cell_type": "code",
   "source": [
    "h1['atr'] = talib.ATR(\n",
    "    close=h1['close'],\n",
    "    high=h1['high'],\n",
    "    low=h1['low'],\n",
    "    timeperiod=24\n",
    ")"
   ],
   "metadata": {
    "collapsed": false,
    "ExecuteTime": {
     "end_time": "2025-10-01T09:57:12.618765Z",
     "start_time": "2025-10-01T09:57:12.614096Z"
    }
   },
   "id": "3fef00141edd2a6c",
   "outputs": [],
   "execution_count": 84
  },
  {
   "cell_type": "code",
   "source": [
    "h1['rsi'] = talib.RSI(\n",
    "    real=h1['close'],\n",
    "    timeperiod=9\n",
    ")"
   ],
   "metadata": {
    "collapsed": false,
    "ExecuteTime": {
     "end_time": "2025-10-01T09:57:12.632049Z",
     "start_time": "2025-10-01T09:57:12.628529Z"
    }
   },
   "id": "e9cd85064236cef5",
   "outputs": [],
   "execution_count": 85
  },
  {
   "cell_type": "code",
   "source": [
    "h1['ma'] = talib.MA(\n",
    "    real=h1['close'],\n",
    "    timeperiod=24\n",
    ")"
   ],
   "metadata": {
    "collapsed": false,
    "ExecuteTime": {
     "end_time": "2025-10-01T09:57:12.645542Z",
     "start_time": "2025-10-01T09:57:12.642452Z"
    }
   },
   "id": "838df3f5db1babf7",
   "outputs": [],
   "execution_count": 86
  },
  {
   "cell_type": "code",
   "source": [
    "h1['true_range'] = talib.TRANGE(\n",
    "    close=h1['close'],\n",
    "    high=h1['high'],\n",
    "    low=h1['low'],\n",
    ")"
   ],
   "metadata": {
    "collapsed": false,
    "ExecuteTime": {
     "end_time": "2025-10-01T09:57:12.658025Z",
     "start_time": "2025-10-01T09:57:12.654791Z"
    }
   },
   "id": "b024ec6414b65edf",
   "outputs": [],
   "execution_count": 87
  },
  {
   "cell_type": "code",
   "source": [
    "h1['range'] = h1['high'] - h1['low']"
   ],
   "metadata": {
    "collapsed": false,
    "ExecuteTime": {
     "end_time": "2025-10-01T09:57:12.669675Z",
     "start_time": "2025-10-01T09:57:12.666647Z"
    }
   },
   "id": "ce495bd5667b1084",
   "outputs": [],
   "execution_count": 88
  },
  {
   "cell_type": "code",
   "source": [
    "def candle_color(r):\n",
    "    if r['open'] > r['close']:\n",
    "        return 'r'\n",
    "    if r['open'] < r['close']:\n",
    "        return 'g'\n",
    "\n",
    "    return 'y'\n",
    "\n",
    "\n",
    "h1['candle_color'] = h1.apply(candle_color, axis=1)"
   ],
   "metadata": {
    "collapsed": false,
    "ExecuteTime": {
     "end_time": "2025-10-01T09:57:12.858881Z",
     "start_time": "2025-10-01T09:57:12.686893Z"
    }
   },
   "id": "4ad778e5956d63d9",
   "outputs": [],
   "execution_count": 89
  },
  {
   "cell_type": "code",
   "source": [
    "def candle_type(r):\n",
    "    ratio = r['true_range'] / r['atr']\n",
    "\n",
    "    if ratio < 0.8:\n",
    "        return 'spinning'\n",
    "    if 1.2 > ratio >= 0.8:\n",
    "        return 'standard'\n",
    "    if 2.4 > ratio >= 1.2:\n",
    "        return 'long'\n",
    "    if ratio >= 2.4:\n",
    "        return 'spike'\n",
    "\n",
    "\n",
    "h1['candle_type'] = h1.apply(candle_type, axis=1)"
   ],
   "metadata": {
    "collapsed": false,
    "ExecuteTime": {
     "end_time": "2025-10-01T09:57:13.002783Z",
     "start_time": "2025-10-01T09:57:12.864864Z"
    }
   },
   "id": "880789b89208ab44",
   "outputs": [],
   "execution_count": 90
  },
  {
   "cell_type": "code",
   "source": [
    "h1 = h1.iloc[24:]"
   ],
   "metadata": {
    "collapsed": false,
    "ExecuteTime": {
     "end_time": "2025-10-01T09:57:13.019226Z",
     "start_time": "2025-10-01T09:57:13.016242Z"
    }
   },
   "id": "a937068986ebb767",
   "outputs": [],
   "execution_count": 91
  },
  {
   "cell_type": "code",
   "source": [
    "h1 = h1.drop(columns=['Unnamed: 0'])"
   ],
   "metadata": {
    "collapsed": false,
    "ExecuteTime": {
     "end_time": "2025-10-01T09:57:13.045991Z",
     "start_time": "2025-10-01T09:57:13.040089Z"
    }
   },
   "id": "74da83e2dbcd9b04",
   "outputs": [],
   "execution_count": 92
  },
  {
   "cell_type": "code",
   "source": [
    "h1 = h1.reset_index(drop=True)"
   ],
   "metadata": {
    "collapsed": false,
    "ExecuteTime": {
     "end_time": "2025-10-01T09:57:13.063261Z",
     "start_time": "2025-10-01T09:57:13.051347Z"
    }
   },
   "id": "36851b607657d7ac",
   "outputs": [],
   "execution_count": 93
  },
  {
   "cell_type": "code",
   "source": [
    "def set_ma_status(row):\n",
    "    if row['close'] > row['ma']:\n",
    "        return 'upper'\n",
    "    if row['close'] < row['ma']:\n",
    "        return 'under'\n",
    "    return 'eq'\n",
    "\n",
    "\n",
    "h1['ma_status'] = h1.apply(set_ma_status, axis=1)"
   ],
   "metadata": {
    "collapsed": false,
    "ExecuteTime": {
     "end_time": "2025-10-01T09:57:13.255969Z",
     "start_time": "2025-10-01T09:57:13.073509Z"
    }
   },
   "id": "1e1b816fea380ac0",
   "outputs": [],
   "execution_count": 94
  },
  {
   "cell_type": "code",
   "source": [
    "h1: pd.DataFrame = pd.DataFrame(h1)"
   ],
   "metadata": {
    "collapsed": false,
    "ExecuteTime": {
     "end_time": "2025-10-01T09:57:13.280778Z",
     "start_time": "2025-10-01T09:57:13.278027Z"
    }
   },
   "id": "46c20a61fcafe69d",
   "outputs": [],
   "execution_count": 95
  },
  {
   "cell_type": "code",
   "source": [
    "h1['signal'] = pd.NA"
   ],
   "metadata": {
    "collapsed": false,
    "ExecuteTime": {
     "end_time": "2025-10-01T09:57:13.690180Z",
     "start_time": "2025-10-01T09:57:13.686843Z"
    }
   },
   "id": "58a697fcafb858a4",
   "outputs": [],
   "execution_count": 96
  },
  {
   "cell_type": "code",
   "source": [
    "ma_status = h1.at[0, 'ma_status']\n",
    "for i, element in h1.iterrows():\n",
    "\n",
    "    if ma_status == element['ma_status']:\n",
    "        continue\n",
    "\n",
    "    ma_status = element['ma_status']\n",
    "\n",
    "    h1.loc[i, 'signal'] = 'buy' if ma_status == 'upper' else 'sell'\n",
    "\n"
   ],
   "metadata": {
    "collapsed": false,
    "ExecuteTime": {
     "end_time": "2025-10-01T09:57:15.175004Z",
     "start_time": "2025-10-01T09:57:14.264862Z"
    }
   },
   "id": "cd8d69e26b41f3bd",
   "outputs": [],
   "execution_count": 97
  },
  {
   "cell_type": "code",
   "source": [
    "from dataclasses import dataclass,asdict\n",
    "\n",
    "\n",
    "@dataclass\n",
    "class TradeSignal:\n",
    "    order_type: str\n",
    "    entry_price: float\n",
    "    sl: float\n",
    "    tp0: float\n",
    "    tp1: float\n",
    "    tp2: float\n",
    "\n",
    "\n",
    "signals = []\n",
    "for i, element in h1.iterrows():\n",
    "    \n",
    "    if pd.isna(element['signal']):\n",
    "        continue\n",
    "    \n",
    "    if element['signal'] == 'buy':\n",
    "        signals.append(\n",
    "            TradeSignal(\n",
    "                order_type=element['signal'],\n",
    "                entry_price=element['close'],\n",
    "                sl=element['close'] - element['atr'],\n",
    "                tp0=element['close'] + element['atr'] * 0.8,\n",
    "                tp1=element['close'] + element['atr'] * 1.6,\n",
    "                tp2=element['close'] + element['atr'] * 2.4,\n",
    "            )\n",
    "        )\n",
    "        if element['signal'] == 'sell':\n",
    "            signals.append(\n",
    "                TradeSignal(\n",
    "                    order_type=element['signal'],\n",
    "                    entry_price=element['close'],\n",
    "                    sl=element['close'] + element['atr'],\n",
    "                    tp0=element['close'] - element['atr'] * 0.8,\n",
    "                    tp1=element['close'] - element['atr'] * 1.6,\n",
    "                    tp2=element['close'] - element['atr'] * 2.4,\n",
    "                )\n",
    "            )\n",
    "\n"
   ],
   "metadata": {
    "collapsed": false,
    "ExecuteTime": {
     "end_time": "2025-10-01T09:57:15.796144Z",
     "start_time": "2025-10-01T09:57:15.180049Z"
    }
   },
   "id": "410e65052a72958a",
   "outputs": [],
   "execution_count": 98
  },
  {
   "cell_type": "code",
   "source": [],
   "metadata": {
    "collapsed": false,
    "ExecuteTime": {
     "end_time": "2025-10-01T09:57:15.810459Z",
     "start_time": "2025-10-01T09:57:15.808131Z"
    }
   },
   "id": "70986d2e958238a4",
   "outputs": [],
   "execution_count": null
  },
  {
   "cell_type": "code",
   "source": [
    "h1['datetime'] = pd.to_datetime(h1['datetime'])"
   ],
   "metadata": {
    "collapsed": false,
    "ExecuteTime": {
     "end_time": "2025-10-01T09:57:15.861417Z",
     "start_time": "2025-10-01T09:57:15.828543Z"
    }
   },
   "id": "859caf9fe37f0c95",
   "outputs": [],
   "execution_count": 99
  },
  {
   "cell_type": "code",
   "source": [
    "h1['signal'] = h1['signal'].fillna(0)"
   ],
   "metadata": {
    "collapsed": false,
    "ExecuteTime": {
     "end_time": "2025-10-01T09:57:16.245650Z",
     "start_time": "2025-10-01T09:57:16.241122Z"
    }
   },
   "id": "915ca73d47d04e11",
   "outputs": [],
   "execution_count": 100
  },
  {
   "cell_type": "code",
   "source": [
    "h1['signal'] = h1['signal'].apply(lambda s:-1 if s == 'sell' else 1)"
   ],
   "metadata": {
    "collapsed": false,
    "ExecuteTime": {
     "end_time": "2025-10-01T09:57:16.793506Z",
     "start_time": "2025-10-01T09:57:16.783963Z"
    }
   },
   "id": "142338648c4b5d99",
   "outputs": [],
   "execution_count": 101
  },
  {
   "cell_type": "code",
   "source": [
    "def candle_type_id(candle_type):\n",
    "\n",
    "    if candle_type == 'spinning':\n",
    "        return 0\n",
    "    if candle_type=='standard':\n",
    "        return 1\n",
    "    if candle_type == 'long':\n",
    "        return 2\n",
    "    if candle_type == 'spike':\n",
    "        return 3\n",
    "\n",
    "h1['candle_type_id'] = h1['candle_type'].apply(candle_type_id)"
   ],
   "metadata": {
    "collapsed": false,
    "ExecuteTime": {
     "end_time": "2025-10-01T09:57:17.122830Z",
     "start_time": "2025-10-01T09:57:17.111445Z"
    }
   },
   "id": "cc47f9e98a65c1ca",
   "outputs": [],
   "execution_count": 102
  },
  {
   "cell_type": "code",
   "source": [
    "import backtrader as bt"
   ],
   "metadata": {
    "collapsed": false,
    "ExecuteTime": {
     "end_time": "2025-10-01T09:57:17.406446Z",
     "start_time": "2025-10-01T09:57:17.403694Z"
    }
   },
   "id": "8383575928e8f44e",
   "outputs": [],
   "execution_count": 103
  },
  {
   "cell_type": "code",
   "source": [
    "class CustomPandasData(bt.feeds.PandasData):\n",
    "    lines = ('atr', 'ma','signal','candle_type_id','rsi')  # add new lines\n",
    "    params = (\n",
    "        ('signal', -1),  # map DataFrame column \"atr\"\n",
    "        ('atr', -1),  # map DataFrame column \"atr\"\n",
    "        ('ma', -1),   # map DataFrame column \"ma\"\n",
    "        ('candle_type_id', -1),   # map DataFrame column \"ma\"\n",
    "        ('rsi', -1),   # map DataFrame column \"ma\"\n",
    "    )\n",
    "class SmaStrategy(bt.Strategy):\n",
    "\n",
    "\n",
    "    def next(self):\n",
    "        \n",
    "        if self.data.signal[0] == 1:\n",
    "            price = self.data.close[0]\n",
    "            \n",
    "            entry_price = price\n",
    "            stop_loss   = entry_price - self.data.atr[0] * 2.4\n",
    "            take_profit = entry_price + self.data.atr[0] * 4.8\n",
    "\n",
    "            self.buy_bracket(\n",
    "                price=entry_price,\n",
    "                stopprice=stop_loss,\n",
    "                limitprice=take_profit,\n",
    "                size = 500\n",
    "            )"
   ],
   "metadata": {
    "collapsed": false,
    "ExecuteTime": {
     "end_time": "2025-10-01T10:20:46.230416Z",
     "start_time": "2025-10-01T10:20:46.225518Z"
    }
   },
   "id": "f06000365869ea73",
   "outputs": [],
   "execution_count": 219
  },
  {
   "cell_type": "code",
   "source": "data = CustomPandasData(dataname = h1.set_index(\"datetime\"))",
   "metadata": {
    "collapsed": false,
    "ExecuteTime": {
     "end_time": "2025-10-01T10:20:46.436028Z",
     "start_time": "2025-10-01T10:20:46.427795Z"
    }
   },
   "id": "d3d8a5b07c4a55d6",
   "outputs": [],
   "execution_count": 220
  },
  {
   "cell_type": "code",
   "source": [
    "\n",
    "cerebro = bt.Cerebro()\n",
    "cerebro.adddata(data)\n",
    "cerebro.addstrategy(SmaStrategy)\n",
    "cerebro.addanalyzer(bt.analyzers.TradeAnalyzer, _name='trade')\n",
    "cerebro.broker.setcash(1000)\n",
    "cerebro.broker.setcommission(commission=0.0001, leverage=500)\n",
    "result =cerebro.run()\n"
   ],
   "metadata": {
    "collapsed": false,
    "ExecuteTime": {
     "end_time": "2025-10-01T10:21:00.207003Z",
     "start_time": "2025-10-01T10:20:46.647082Z"
    }
   },
   "id": "e2ead3271779c3e4",
   "outputs": [],
   "execution_count": 221
  },
  {
   "metadata": {
    "ExecuteTime": {
     "end_time": "2025-10-01T10:21:00.217058Z",
     "start_time": "2025-10-01T10:21:00.213503Z"
    }
   },
   "cell_type": "code",
   "source": "len(result[0].analyzers.trade.get_analysis())",
   "id": "4eba4bb306d52150",
   "outputs": [
    {
     "data": {
      "text/plain": [
       "8"
      ]
     },
     "execution_count": 222,
     "metadata": {},
     "output_type": "execute_result"
    }
   ],
   "execution_count": 222
  },
  {
   "metadata": {},
   "cell_type": "code",
   "outputs": [],
   "execution_count": null,
   "source": "",
   "id": "2fb9160bab0724d3"
  }
 ],
 "metadata": {
  "kernelspec": {
   "display_name": "Python 3",
   "language": "python",
   "name": "python3"
  },
  "language_info": {
   "codemirror_mode": {
    "name": "ipython",
    "version": 2
   },
   "file_extension": ".py",
   "mimetype": "text/x-python",
   "name": "python",
   "nbconvert_exporter": "python",
   "pygments_lexer": "ipython2",
   "version": "2.7.6"
  }
 },
 "nbformat": 4,
 "nbformat_minor": 5
}
