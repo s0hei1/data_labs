{
 "cells": [
  {
   "cell_type": "code",
   "execution_count": 38,
   "id": "initial_id",
   "metadata": {
    "collapsed": true,
    "ExecuteTime": {
     "end_time": "2025-09-30T19:15:34.731475900Z",
     "start_time": "2025-09-30T19:15:34.644235400Z"
    }
   },
   "outputs": [],
   "source": [
    "import pandas as pd\n",
    "import talib"
   ]
  },
  {
   "cell_type": "code",
   "outputs": [],
   "source": [
    "daily = pd.read_excel('gbp_usd_1D.xlsx')\n",
    "h1 = pd.read_excel('gbp_usd_1h.xlsx')"
   ],
   "metadata": {
    "collapsed": false,
    "ExecuteTime": {
     "end_time": "2025-09-30T19:15:38.248983800Z",
     "start_time": "2025-09-30T19:15:34.828400800Z"
    }
   },
   "id": "e2a01cca881a4f5",
   "execution_count": 39
  },
  {
   "cell_type": "code",
   "outputs": [],
   "source": [
    "h1['atr'] = talib.ATR(\n",
    "    close=h1['close'],\n",
    "    high=h1['high'],\n",
    "    low=h1['low'],\n",
    "    timeperiod=24\n",
    ")"
   ],
   "metadata": {
    "collapsed": false,
    "ExecuteTime": {
     "end_time": "2025-09-30T19:15:38.258878500Z",
     "start_time": "2025-09-30T19:15:38.251190900Z"
    }
   },
   "id": "3fef00141edd2a6c",
   "execution_count": 40
  },
  {
   "cell_type": "code",
   "outputs": [],
   "source": [
    "h1['rsi'] = talib.RSI(\n",
    "    real=h1['close'],\n",
    "    timeperiod=9\n",
    ")"
   ],
   "metadata": {
    "collapsed": false,
    "ExecuteTime": {
     "end_time": "2025-09-30T19:15:38.267318500Z",
     "start_time": "2025-09-30T19:15:38.261128200Z"
    }
   },
   "id": "e9cd85064236cef5",
   "execution_count": 41
  },
  {
   "cell_type": "code",
   "outputs": [],
   "source": [
    "h1['ma'] = talib.MA(\n",
    "    real=h1['close'],\n",
    "    timeperiod=24\n",
    ")"
   ],
   "metadata": {
    "collapsed": false,
    "ExecuteTime": {
     "end_time": "2025-09-30T19:15:38.283519500Z",
     "start_time": "2025-09-30T19:15:38.270692300Z"
    }
   },
   "id": "838df3f5db1babf7",
   "execution_count": 42
  },
  {
   "cell_type": "code",
   "outputs": [],
   "source": [
    "h1['true_range'] = talib.TRANGE(\n",
    "    close=h1['close'],\n",
    "    high=h1['high'],\n",
    "    low=h1['low'],\n",
    ")"
   ],
   "metadata": {
    "collapsed": false,
    "ExecuteTime": {
     "end_time": "2025-09-30T19:15:38.294122800Z",
     "start_time": "2025-09-30T19:15:38.276435900Z"
    }
   },
   "id": "b024ec6414b65edf",
   "execution_count": 43
  },
  {
   "cell_type": "code",
   "outputs": [],
   "source": [
    "h1['range'] = h1['high'] - h1['low']"
   ],
   "metadata": {
    "collapsed": false,
    "ExecuteTime": {
     "end_time": "2025-09-30T19:15:38.295258900Z",
     "start_time": "2025-09-30T19:15:38.286871200Z"
    }
   },
   "id": "ce495bd5667b1084",
   "execution_count": 44
  },
  {
   "cell_type": "code",
   "outputs": [],
   "source": [
    "def candle_color(r):\n",
    "    if r['open'] > r['close']:\n",
    "        return 'r'\n",
    "    if r['open'] < r['close']:\n",
    "        return 'g'\n",
    "\n",
    "    return 'y'\n",
    "\n",
    "\n",
    "h1['candle_color'] = h1.apply(candle_color, axis=1)"
   ],
   "metadata": {
    "collapsed": false,
    "ExecuteTime": {
     "end_time": "2025-09-30T19:15:38.576345500Z",
     "start_time": "2025-09-30T19:15:38.296395400Z"
    }
   },
   "id": "4ad778e5956d63d9",
   "execution_count": 45
  },
  {
   "cell_type": "code",
   "outputs": [],
   "source": [
    "def candle_type(r):\n",
    "    ratio = r['true_range'] / r['atr']\n",
    "\n",
    "    if ratio < 0.8:\n",
    "        return 'spinning'\n",
    "    if 1.2 > ratio >= 0.8:\n",
    "        return 'standard'\n",
    "    if 2.4 > ratio >= 1.2:\n",
    "        return 'long'\n",
    "    if ratio >= 2.4:\n",
    "        return 'spike'\n",
    "\n",
    "\n",
    "h1['candle_type'] = h1.apply(candle_type, axis=1)"
   ],
   "metadata": {
    "collapsed": false,
    "ExecuteTime": {
     "end_time": "2025-09-30T19:15:38.812409100Z",
     "start_time": "2025-09-30T19:15:38.577400700Z"
    }
   },
   "id": "880789b89208ab44",
   "execution_count": 46
  },
  {
   "cell_type": "code",
   "outputs": [],
   "source": [
    "h1 = h1.iloc[24:]"
   ],
   "metadata": {
    "collapsed": false,
    "ExecuteTime": {
     "end_time": "2025-09-30T19:15:38.819907500Z",
     "start_time": "2025-09-30T19:15:38.814661900Z"
    }
   },
   "id": "a937068986ebb767",
   "execution_count": 47
  },
  {
   "cell_type": "code",
   "outputs": [],
   "source": [
    "h1 = h1.drop(columns=['Unnamed: 0'])"
   ],
   "metadata": {
    "collapsed": false,
    "ExecuteTime": {
     "end_time": "2025-09-30T19:15:38.830690700Z",
     "start_time": "2025-09-30T19:15:38.819907500Z"
    }
   },
   "id": "74da83e2dbcd9b04",
   "execution_count": 48
  },
  {
   "cell_type": "code",
   "outputs": [],
   "source": [
    "h1 = h1.reset_index(drop=True)"
   ],
   "metadata": {
    "collapsed": false,
    "ExecuteTime": {
     "end_time": "2025-09-30T19:15:38.853648200Z",
     "start_time": "2025-09-30T19:15:38.833059Z"
    }
   },
   "id": "36851b607657d7ac",
   "execution_count": 49
  },
  {
   "cell_type": "code",
   "outputs": [],
   "source": [
    "def set_ma_status(row):\n",
    "    if row['close'] > row['ma']:\n",
    "        return 'upper'\n",
    "    if row['close'] < row['ma']:\n",
    "        return 'under'\n",
    "    return 'eq'\n",
    "\n",
    "\n",
    "h1['ma_status'] = h1.apply(set_ma_status, axis=1)"
   ],
   "metadata": {
    "collapsed": false,
    "ExecuteTime": {
     "end_time": "2025-09-30T19:17:41.150443700Z",
     "start_time": "2025-09-30T19:17:40.847055200Z"
    }
   },
   "id": "1e1b816fea380ac0",
   "execution_count": 51
  },
  {
   "cell_type": "code",
   "outputs": [],
   "source": [
    "h1: pd.DataFrame = pd.DataFrame(h1)"
   ],
   "metadata": {
    "collapsed": false,
    "ExecuteTime": {
     "end_time": "2025-09-30T19:18:23.699248400Z",
     "start_time": "2025-09-30T19:18:23.663609800Z"
    }
   },
   "id": "46c20a61fcafe69d",
   "execution_count": 52
  },
  {
   "cell_type": "code",
   "outputs": [],
   "source": [
    "h1['signal'] = pd.NA"
   ],
   "metadata": {
    "collapsed": false,
    "ExecuteTime": {
     "end_time": "2025-09-30T19:23:29.567706500Z",
     "start_time": "2025-09-30T19:23:29.547523Z"
    }
   },
   "id": "58a697fcafb858a4",
   "execution_count": 60
  },
  {
   "cell_type": "code",
   "outputs": [],
   "source": [
    "ma_status = h1.at[0, 'ma_status']\n",
    "for i, element in h1.iterrows():\n",
    "\n",
    "    if ma_status == element['ma_status']:\n",
    "        continue\n",
    "\n",
    "    ma_status = element['ma_status']\n",
    "\n",
    "    h1.loc[i, 'signal'] = 'buy' if ma_status == 'upper' else 'sell'\n",
    "\n"
   ],
   "metadata": {
    "collapsed": false,
    "ExecuteTime": {
     "end_time": "2025-09-30T19:25:41.193921300Z",
     "start_time": "2025-09-30T19:25:39.129769300Z"
    }
   },
   "id": "cd8d69e26b41f3bd",
   "execution_count": 61
  },
  {
   "cell_type": "code",
   "outputs": [],
   "source": [
    "from dataclasses import dataclass,asdict\n",
    "\n",
    "\n",
    "@dataclass\n",
    "class TradeSignal:\n",
    "    order_type: str\n",
    "    entry_price: float\n",
    "    sl: float\n",
    "    tp0: float\n",
    "    tp1: float\n",
    "    tp2: float\n",
    "\n",
    "\n",
    "signals = []\n",
    "for i, element in h1.iterrows():\n",
    "    \n",
    "    if pd.isna(element['signal']):\n",
    "        continue\n",
    "    \n",
    "    if element['signal'] == 'buy':\n",
    "        signals.append(\n",
    "            TradeSignal(\n",
    "                order_type=element['signal'],\n",
    "                entry_price=element['close'],\n",
    "                sl=element['close'] - element['atr'],\n",
    "                tp0=element['close'] + element['atr'] * 0.8,\n",
    "                tp1=element['close'] + element['atr'] * 1.6,\n",
    "                tp2=element['close'] + element['atr'] * 2.4,\n",
    "            )\n",
    "        )\n",
    "        if element['signal'] == 'sell':\n",
    "            signals.append(\n",
    "                TradeSignal(\n",
    "                    order_type=element['signal'],\n",
    "                    entry_price=element['close'],\n",
    "                    sl=element['close'] + element['atr'],\n",
    "                    tp0=element['close'] - element['atr'] * 0.8,\n",
    "                    tp1=element['close'] - element['atr'] * 1.6,\n",
    "                    tp2=element['close'] - element['atr'] * 2.4,\n",
    "                )\n",
    "            )\n",
    "\n"
   ],
   "metadata": {
    "collapsed": false,
    "ExecuteTime": {
     "end_time": "2025-09-30T19:38:38.687930900Z",
     "start_time": "2025-09-30T19:38:36.829395Z"
    }
   },
   "id": "410e65052a72958a",
   "execution_count": 69
  },
  {
   "cell_type": "code",
   "outputs": [],
   "source": [
    "trade_signals = pd.DataFrame([asdict(i) for i in signals])"
   ],
   "metadata": {
    "collapsed": false,
    "ExecuteTime": {
     "end_time": "2025-09-30T19:39:23.327374500Z",
     "start_time": "2025-09-30T19:39:23.203662Z"
    }
   },
   "id": "8383575928e8f44e",
   "execution_count": 72
  },
  {
   "cell_type": "code",
   "outputs": [
    {
     "data": {
      "text/plain": "     order_type  entry_price        sl       tp0       tp1       tp2\n0           buy      1.30818  1.306327  1.309662  1.311144  1.312626\n1           buy      1.31046  1.308475  1.312048  1.313636  1.315223\n2           buy      1.31875  1.316868  1.320256  1.321761  1.323267\n3           buy      1.31287  1.311069  1.314311  1.315751  1.317192\n4           buy      1.31240  1.310073  1.314262  1.316124  1.317985\n...         ...          ...       ...       ...       ...       ...\n1914        buy      1.34310  1.341648  1.344261  1.345423  1.346584\n1915        buy      1.34366  1.342241  1.344795  1.345931  1.347066\n1916        buy      1.34325  1.341906  1.344326  1.345401  1.346477\n1917        buy      1.34343  1.342134  1.344467  1.345503  1.346540\n1918        buy      1.34394  1.342610  1.345004  1.346068  1.347132\n\n[1919 rows x 6 columns]",
      "text/html": "<div>\n<style scoped>\n    .dataframe tbody tr th:only-of-type {\n        vertical-align: middle;\n    }\n\n    .dataframe tbody tr th {\n        vertical-align: top;\n    }\n\n    .dataframe thead th {\n        text-align: right;\n    }\n</style>\n<table border=\"1\" class=\"dataframe\">\n  <thead>\n    <tr style=\"text-align: right;\">\n      <th></th>\n      <th>order_type</th>\n      <th>entry_price</th>\n      <th>sl</th>\n      <th>tp0</th>\n      <th>tp1</th>\n      <th>tp2</th>\n    </tr>\n  </thead>\n  <tbody>\n    <tr>\n      <th>0</th>\n      <td>buy</td>\n      <td>1.30818</td>\n      <td>1.306327</td>\n      <td>1.309662</td>\n      <td>1.311144</td>\n      <td>1.312626</td>\n    </tr>\n    <tr>\n      <th>1</th>\n      <td>buy</td>\n      <td>1.31046</td>\n      <td>1.308475</td>\n      <td>1.312048</td>\n      <td>1.313636</td>\n      <td>1.315223</td>\n    </tr>\n    <tr>\n      <th>2</th>\n      <td>buy</td>\n      <td>1.31875</td>\n      <td>1.316868</td>\n      <td>1.320256</td>\n      <td>1.321761</td>\n      <td>1.323267</td>\n    </tr>\n    <tr>\n      <th>3</th>\n      <td>buy</td>\n      <td>1.31287</td>\n      <td>1.311069</td>\n      <td>1.314311</td>\n      <td>1.315751</td>\n      <td>1.317192</td>\n    </tr>\n    <tr>\n      <th>4</th>\n      <td>buy</td>\n      <td>1.31240</td>\n      <td>1.310073</td>\n      <td>1.314262</td>\n      <td>1.316124</td>\n      <td>1.317985</td>\n    </tr>\n    <tr>\n      <th>...</th>\n      <td>...</td>\n      <td>...</td>\n      <td>...</td>\n      <td>...</td>\n      <td>...</td>\n      <td>...</td>\n    </tr>\n    <tr>\n      <th>1914</th>\n      <td>buy</td>\n      <td>1.34310</td>\n      <td>1.341648</td>\n      <td>1.344261</td>\n      <td>1.345423</td>\n      <td>1.346584</td>\n    </tr>\n    <tr>\n      <th>1915</th>\n      <td>buy</td>\n      <td>1.34366</td>\n      <td>1.342241</td>\n      <td>1.344795</td>\n      <td>1.345931</td>\n      <td>1.347066</td>\n    </tr>\n    <tr>\n      <th>1916</th>\n      <td>buy</td>\n      <td>1.34325</td>\n      <td>1.341906</td>\n      <td>1.344326</td>\n      <td>1.345401</td>\n      <td>1.346477</td>\n    </tr>\n    <tr>\n      <th>1917</th>\n      <td>buy</td>\n      <td>1.34343</td>\n      <td>1.342134</td>\n      <td>1.344467</td>\n      <td>1.345503</td>\n      <td>1.346540</td>\n    </tr>\n    <tr>\n      <th>1918</th>\n      <td>buy</td>\n      <td>1.34394</td>\n      <td>1.342610</td>\n      <td>1.345004</td>\n      <td>1.346068</td>\n      <td>1.347132</td>\n    </tr>\n  </tbody>\n</table>\n<p>1919 rows × 6 columns</p>\n</div>"
     },
     "execution_count": 73,
     "metadata": {},
     "output_type": "execute_result"
    }
   ],
   "source": [
    "trade_signals"
   ],
   "metadata": {
    "collapsed": false,
    "ExecuteTime": {
     "end_time": "2025-09-30T19:39:25.902686Z",
     "start_time": "2025-09-30T19:39:25.853464Z"
    }
   },
   "id": "f06000365869ea73",
   "execution_count": 73
  },
  {
   "cell_type": "code",
   "outputs": [],
   "source": [],
   "metadata": {
    "collapsed": false
   },
   "id": "e2ead3271779c3e4"
  }
 ],
 "metadata": {
  "kernelspec": {
   "display_name": "Python 3",
   "language": "python",
   "name": "python3"
  },
  "language_info": {
   "codemirror_mode": {
    "name": "ipython",
    "version": 2
   },
   "file_extension": ".py",
   "mimetype": "text/x-python",
   "name": "python",
   "nbconvert_exporter": "python",
   "pygments_lexer": "ipython2",
   "version": "2.7.6"
  }
 },
 "nbformat": 4,
 "nbformat_minor": 5
}
