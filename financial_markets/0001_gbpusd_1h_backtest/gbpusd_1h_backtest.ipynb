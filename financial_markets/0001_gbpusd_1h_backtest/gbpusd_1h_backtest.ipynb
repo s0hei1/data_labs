{
 "cells": [
  {
   "cell_type": "code",
   "execution_count": 38,
   "id": "initial_id",
   "metadata": {
    "collapsed": true,
    "ExecuteTime": {
     "end_time": "2025-09-30T19:15:34.731475900Z",
     "start_time": "2025-09-30T19:15:34.644235400Z"
    }
   },
   "outputs": [],
   "source": [
    "import pandas as pd\n",
    "import talib"
   ]
  },
  {
   "cell_type": "code",
   "outputs": [],
   "source": [
    "daily = pd.read_excel('gbp_usd_1D.xlsx')\n",
    "h1 = pd.read_excel('gbp_usd_1h.xlsx')"
   ],
   "metadata": {
    "collapsed": false,
    "ExecuteTime": {
     "end_time": "2025-09-30T19:15:38.248983800Z",
     "start_time": "2025-09-30T19:15:34.828400800Z"
    }
   },
   "id": "e2a01cca881a4f5",
   "execution_count": 39
  },
  {
   "cell_type": "code",
   "outputs": [],
   "source": [
    "h1['atr'] = talib.ATR(\n",
    "    close=h1['close'],\n",
    "    high=h1['high'],\n",
    "    low=h1['low'],\n",
    "    timeperiod=24\n",
    ")"
   ],
   "metadata": {
    "collapsed": false,
    "ExecuteTime": {
     "end_time": "2025-09-30T19:15:38.258878500Z",
     "start_time": "2025-09-30T19:15:38.251190900Z"
    }
   },
   "id": "3fef00141edd2a6c",
   "execution_count": 40
  },
  {
   "cell_type": "code",
   "outputs": [],
   "source": [
    "h1['rsi'] = talib.RSI(\n",
    "    real=h1['close'],\n",
    "    timeperiod=9\n",
    ")"
   ],
   "metadata": {
    "collapsed": false,
    "ExecuteTime": {
     "end_time": "2025-09-30T19:15:38.267318500Z",
     "start_time": "2025-09-30T19:15:38.261128200Z"
    }
   },
   "id": "e9cd85064236cef5",
   "execution_count": 41
  },
  {
   "cell_type": "code",
   "outputs": [],
   "source": [
    "h1['ma'] = talib.MA(\n",
    "    real=h1['close'],\n",
    "    timeperiod=24\n",
    ")"
   ],
   "metadata": {
    "collapsed": false,
    "ExecuteTime": {
     "end_time": "2025-09-30T19:15:38.283519500Z",
     "start_time": "2025-09-30T19:15:38.270692300Z"
    }
   },
   "id": "838df3f5db1babf7",
   "execution_count": 42
  },
  {
   "cell_type": "code",
   "outputs": [],
   "source": [
    "h1['true_range'] = talib.TRANGE(\n",
    "    close=h1['close'],\n",
    "    high=h1['high'],\n",
    "    low=h1['low'],\n",
    ")"
   ],
   "metadata": {
    "collapsed": false,
    "ExecuteTime": {
     "end_time": "2025-09-30T19:15:38.294122800Z",
     "start_time": "2025-09-30T19:15:38.276435900Z"
    }
   },
   "id": "b024ec6414b65edf",
   "execution_count": 43
  },
  {
   "cell_type": "code",
   "outputs": [],
   "source": [
    "h1['range'] = h1['high'] - h1['low']"
   ],
   "metadata": {
    "collapsed": false,
    "ExecuteTime": {
     "end_time": "2025-09-30T19:15:38.295258900Z",
     "start_time": "2025-09-30T19:15:38.286871200Z"
    }
   },
   "id": "ce495bd5667b1084",
   "execution_count": 44
  },
  {
   "cell_type": "code",
   "outputs": [],
   "source": [
    "def candle_color(r):\n",
    "    if r['open'] > r['close']:\n",
    "        return 'r'\n",
    "    if r['open'] < r['close']:\n",
    "        return 'g'\n",
    "\n",
    "    return 'y'\n",
    "\n",
    "\n",
    "h1['candle_color'] = h1.apply(candle_color, axis=1)"
   ],
   "metadata": {
    "collapsed": false,
    "ExecuteTime": {
     "end_time": "2025-09-30T19:15:38.576345500Z",
     "start_time": "2025-09-30T19:15:38.296395400Z"
    }
   },
   "id": "4ad778e5956d63d9",
   "execution_count": 45
  },
  {
   "cell_type": "code",
   "outputs": [],
   "source": [
    "def candle_type(r):\n",
    "    ratio = r['true_range'] / r['atr']\n",
    "\n",
    "    if ratio < 0.8:\n",
    "        return 'spinning'\n",
    "    if 1.2 > ratio >= 0.8:\n",
    "        return 'standard'\n",
    "    if 2.4 > ratio >= 1.2:\n",
    "        return 'long'\n",
    "    if ratio >= 2.4:\n",
    "        return 'spike'\n",
    "\n",
    "\n",
    "h1['candle_type'] = h1.apply(candle_type, axis=1)"
   ],
   "metadata": {
    "collapsed": false,
    "ExecuteTime": {
     "end_time": "2025-09-30T19:15:38.812409100Z",
     "start_time": "2025-09-30T19:15:38.577400700Z"
    }
   },
   "id": "880789b89208ab44",
   "execution_count": 46
  },
  {
   "cell_type": "code",
   "outputs": [],
   "source": [
    "h1 = h1.iloc[24:]"
   ],
   "metadata": {
    "collapsed": false,
    "ExecuteTime": {
     "end_time": "2025-09-30T19:15:38.819907500Z",
     "start_time": "2025-09-30T19:15:38.814661900Z"
    }
   },
   "id": "a937068986ebb767",
   "execution_count": 47
  },
  {
   "cell_type": "code",
   "outputs": [],
   "source": [
    "h1 = h1.drop(columns=['Unnamed: 0'])"
   ],
   "metadata": {
    "collapsed": false,
    "ExecuteTime": {
     "end_time": "2025-09-30T19:15:38.830690700Z",
     "start_time": "2025-09-30T19:15:38.819907500Z"
    }
   },
   "id": "74da83e2dbcd9b04",
   "execution_count": 48
  },
  {
   "cell_type": "code",
   "outputs": [],
   "source": [
    "h1 = h1.reset_index(drop=True)"
   ],
   "metadata": {
    "collapsed": false,
    "ExecuteTime": {
     "end_time": "2025-09-30T19:15:38.853648200Z",
     "start_time": "2025-09-30T19:15:38.833059Z"
    }
   },
   "id": "36851b607657d7ac",
   "execution_count": 49
  },
  {
   "cell_type": "code",
   "outputs": [],
   "source": [
    "def set_ma_status(row):\n",
    "    if row['close'] > row['ma']:\n",
    "        return 'upper'\n",
    "    if row['close'] < row['ma']:\n",
    "        return 'under'\n",
    "    return 'eq'\n",
    "\n",
    "\n",
    "h1['ma_status'] = h1.apply(set_ma_status, axis=1)"
   ],
   "metadata": {
    "collapsed": false,
    "ExecuteTime": {
     "end_time": "2025-09-30T19:17:41.150443700Z",
     "start_time": "2025-09-30T19:17:40.847055200Z"
    }
   },
   "id": "1e1b816fea380ac0",
   "execution_count": 51
  },
  {
   "cell_type": "code",
   "outputs": [],
   "source": [
    "h1: pd.DataFrame = pd.DataFrame(h1)"
   ],
   "metadata": {
    "collapsed": false,
    "ExecuteTime": {
     "end_time": "2025-09-30T19:18:23.699248400Z",
     "start_time": "2025-09-30T19:18:23.663609800Z"
    }
   },
   "id": "46c20a61fcafe69d",
   "execution_count": 52
  },
  {
   "cell_type": "code",
   "outputs": [],
   "source": [
    "h1['signal'] = pd.NA"
   ],
   "metadata": {
    "collapsed": false,
    "ExecuteTime": {
     "end_time": "2025-09-30T19:23:29.567706500Z",
     "start_time": "2025-09-30T19:23:29.547523Z"
    }
   },
   "id": "58a697fcafb858a4",
   "execution_count": 60
  },
  {
   "cell_type": "code",
   "outputs": [],
   "source": [
    "ma_status = h1.at[0, 'ma_status']\n",
    "for i, element in h1.iterrows():\n",
    "\n",
    "    if ma_status == element['ma_status']:\n",
    "        continue\n",
    "\n",
    "    ma_status = element['ma_status']\n",
    "\n",
    "    h1.loc[i, 'signal'] = 'buy' if ma_status == 'upper' else 'sell'\n",
    "\n"
   ],
   "metadata": {
    "collapsed": false,
    "ExecuteTime": {
     "end_time": "2025-09-30T19:25:41.193921300Z",
     "start_time": "2025-09-30T19:25:39.129769300Z"
    }
   },
   "id": "cd8d69e26b41f3bd",
   "execution_count": 61
  },
  {
   "cell_type": "code",
   "outputs": [],
   "source": [
    "from dataclasses import dataclass,asdict\n",
    "\n",
    "\n",
    "@dataclass\n",
    "class TradeSignal:\n",
    "    order_type: str\n",
    "    entry_price: float\n",
    "    sl: float\n",
    "    tp0: float\n",
    "    tp1: float\n",
    "    tp2: float\n",
    "\n",
    "\n",
    "signals = []\n",
    "for i, element in h1.iterrows():\n",
    "    \n",
    "    if pd.isna(element['signal']):\n",
    "        continue\n",
    "    \n",
    "    if element['signal'] == 'buy':\n",
    "        signals.append(\n",
    "            TradeSignal(\n",
    "                order_type=element['signal'],\n",
    "                entry_price=element['close'],\n",
    "                sl=element['close'] - element['atr'],\n",
    "                tp0=element['close'] + element['atr'] * 0.8,\n",
    "                tp1=element['close'] + element['atr'] * 1.6,\n",
    "                tp2=element['close'] + element['atr'] * 2.4,\n",
    "            )\n",
    "        )\n",
    "        if element['signal'] == 'sell':\n",
    "            signals.append(\n",
    "                TradeSignal(\n",
    "                    order_type=element['signal'],\n",
    "                    entry_price=element['close'],\n",
    "                    sl=element['close'] + element['atr'],\n",
    "                    tp0=element['close'] - element['atr'] * 0.8,\n",
    "                    tp1=element['close'] - element['atr'] * 1.6,\n",
    "                    tp2=element['close'] - element['atr'] * 2.4,\n",
    "                )\n",
    "            )\n",
    "\n"
   ],
   "metadata": {
    "collapsed": false,
    "ExecuteTime": {
     "end_time": "2025-09-30T19:38:38.687930900Z",
     "start_time": "2025-09-30T19:38:36.829395Z"
    }
   },
   "id": "410e65052a72958a",
   "execution_count": 69
  },
  {
   "cell_type": "code",
   "outputs": [],
   "source": [],
   "metadata": {
    "collapsed": false
   },
   "id": "70986d2e958238a4"
  },
  {
   "cell_type": "code",
   "outputs": [],
   "source": [
    "h1['datetime'] = pd.to_datetime(h1['datetime'])"
   ],
   "metadata": {
    "collapsed": false,
    "ExecuteTime": {
     "end_time": "2025-09-30T19:48:03.306837700Z",
     "start_time": "2025-09-30T19:48:03.192870300Z"
    }
   },
   "id": "859caf9fe37f0c95",
   "execution_count": 86
  },
  {
   "cell_type": "code",
   "outputs": [],
   "source": [
    "h1['signal'] = h1['signal'].fillna(0)"
   ],
   "metadata": {
    "collapsed": false,
    "ExecuteTime": {
     "end_time": "2025-09-30T19:58:26.712120100Z",
     "start_time": "2025-09-30T19:58:26.605782700Z"
    }
   },
   "id": "915ca73d47d04e11",
   "execution_count": 108
  },
  {
   "cell_type": "code",
   "outputs": [],
   "source": [
    "h1['signal'] = h1['signal'].apply(lambda s:-1 if s == 'sell' else 1)"
   ],
   "metadata": {
    "collapsed": false,
    "ExecuteTime": {
     "end_time": "2025-09-30T19:59:07.442239800Z",
     "start_time": "2025-09-30T19:59:07.425744500Z"
    }
   },
   "id": "142338648c4b5d99",
   "execution_count": 109
  },
  {
   "cell_type": "code",
   "outputs": [],
   "source": [
    "def candle_type_id(candle_type):\n",
    "\n",
    "    if candle_type == 'spinning':\n",
    "        return 0\n",
    "    if candle_type=='standard':\n",
    "        return 1\n",
    "    if candle_type == 'long':\n",
    "        return 2\n",
    "    if candle_type == 'spike':\n",
    "        return 3\n",
    "\n",
    "h1['candle_type_id'] = h1['candle_type'].apply(candle_type_id)"
   ],
   "metadata": {
    "collapsed": false,
    "ExecuteTime": {
     "end_time": "2025-09-30T20:06:25.382573500Z",
     "start_time": "2025-09-30T20:06:25.341715100Z"
    }
   },
   "id": "cc47f9e98a65c1ca",
   "execution_count": 135
  },
  {
   "cell_type": "code",
   "outputs": [
    {
     "data": {
      "text/plain": "                       datetime     open     high      low    close timeframe  \\\n0     2020-01-02 22:00:00+00:00  1.31278  1.31449  1.31277  1.31377        h1   \n1     2020-01-02 23:00:00+00:00  1.31377  1.31413  1.31323  1.31343        h1   \n2     2020-01-03 00:00:00+00:00  1.31342  1.31397  1.31300  1.31318        h1   \n3     2020-01-03 01:00:00+00:00  1.31317  1.31473  1.31296  1.31460        h1   \n4     2020-01-03 02:00:00+00:00  1.31459  1.31561  1.31390  1.31544        h1   \n...                         ...      ...      ...      ...      ...       ...   \n35562 2025-09-30 14:00:00+00:00  1.34367  1.34426  1.34234  1.34357        h1   \n35563 2025-09-30 15:00:00+00:00  1.34358  1.34508  1.34353  1.34408        h1   \n35564 2025-09-30 16:00:00+00:00  1.34416  1.34490  1.34124  1.34416        h1   \n35565 2025-09-30 17:00:00+00:00  1.34408  1.34659  1.34336  1.34606        h1   \n35566 2025-09-30 18:00:00+00:00  1.34608  1.34617  1.34351  1.34416        h1   \n\n            atr        rsi        ma  true_range    range candle_color  \\\n0      0.002258  35.263163  1.319911     0.00172  0.00172            g   \n1      0.002202  34.302648  1.319451     0.00090  0.00090            r   \n2      0.002150  33.546777  1.318971     0.00097  0.00097            r   \n3      0.002135  41.748874  1.318541     0.00177  0.00177            g   \n4      0.002117  46.170413  1.318119     0.00171  0.00171            g   \n...         ...        ...       ...         ...      ...          ...   \n35562  0.001352  50.558445  1.343351     0.00192  0.00192            r   \n35563  0.001360  56.545719  1.343312     0.00155  0.00155            g   \n35564  0.001456  57.454917  1.343330     0.00366  0.00366            y   \n35565  0.001530  72.710704  1.343511     0.00323  0.00323            g   \n35566  0.001577  51.810328  1.343555     0.00266  0.00266            r   \n\n      candle_type ma_status  signal  candle_type_id  \n0        spinning     under       1               0  \n1        spinning     under       1               0  \n2        spinning     under       1               0  \n3        standard     under       1               1  \n4        standard     under       1               1  \n...           ...       ...     ...             ...  \n35562        long     upper       1               2  \n35563    standard     upper       1               1  \n35564       spike     upper       1               3  \n35565        long     upper       1               2  \n35566        long     upper       1               2  \n\n[35567 rows x 16 columns]",
      "text/html": "<div>\n<style scoped>\n    .dataframe tbody tr th:only-of-type {\n        vertical-align: middle;\n    }\n\n    .dataframe tbody tr th {\n        vertical-align: top;\n    }\n\n    .dataframe thead th {\n        text-align: right;\n    }\n</style>\n<table border=\"1\" class=\"dataframe\">\n  <thead>\n    <tr style=\"text-align: right;\">\n      <th></th>\n      <th>datetime</th>\n      <th>open</th>\n      <th>high</th>\n      <th>low</th>\n      <th>close</th>\n      <th>timeframe</th>\n      <th>atr</th>\n      <th>rsi</th>\n      <th>ma</th>\n      <th>true_range</th>\n      <th>range</th>\n      <th>candle_color</th>\n      <th>candle_type</th>\n      <th>ma_status</th>\n      <th>signal</th>\n      <th>candle_type_id</th>\n    </tr>\n  </thead>\n  <tbody>\n    <tr>\n      <th>0</th>\n      <td>2020-01-02 22:00:00+00:00</td>\n      <td>1.31278</td>\n      <td>1.31449</td>\n      <td>1.31277</td>\n      <td>1.31377</td>\n      <td>h1</td>\n      <td>0.002258</td>\n      <td>35.263163</td>\n      <td>1.319911</td>\n      <td>0.00172</td>\n      <td>0.00172</td>\n      <td>g</td>\n      <td>spinning</td>\n      <td>under</td>\n      <td>1</td>\n      <td>0</td>\n    </tr>\n    <tr>\n      <th>1</th>\n      <td>2020-01-02 23:00:00+00:00</td>\n      <td>1.31377</td>\n      <td>1.31413</td>\n      <td>1.31323</td>\n      <td>1.31343</td>\n      <td>h1</td>\n      <td>0.002202</td>\n      <td>34.302648</td>\n      <td>1.319451</td>\n      <td>0.00090</td>\n      <td>0.00090</td>\n      <td>r</td>\n      <td>spinning</td>\n      <td>under</td>\n      <td>1</td>\n      <td>0</td>\n    </tr>\n    <tr>\n      <th>2</th>\n      <td>2020-01-03 00:00:00+00:00</td>\n      <td>1.31342</td>\n      <td>1.31397</td>\n      <td>1.31300</td>\n      <td>1.31318</td>\n      <td>h1</td>\n      <td>0.002150</td>\n      <td>33.546777</td>\n      <td>1.318971</td>\n      <td>0.00097</td>\n      <td>0.00097</td>\n      <td>r</td>\n      <td>spinning</td>\n      <td>under</td>\n      <td>1</td>\n      <td>0</td>\n    </tr>\n    <tr>\n      <th>3</th>\n      <td>2020-01-03 01:00:00+00:00</td>\n      <td>1.31317</td>\n      <td>1.31473</td>\n      <td>1.31296</td>\n      <td>1.31460</td>\n      <td>h1</td>\n      <td>0.002135</td>\n      <td>41.748874</td>\n      <td>1.318541</td>\n      <td>0.00177</td>\n      <td>0.00177</td>\n      <td>g</td>\n      <td>standard</td>\n      <td>under</td>\n      <td>1</td>\n      <td>1</td>\n    </tr>\n    <tr>\n      <th>4</th>\n      <td>2020-01-03 02:00:00+00:00</td>\n      <td>1.31459</td>\n      <td>1.31561</td>\n      <td>1.31390</td>\n      <td>1.31544</td>\n      <td>h1</td>\n      <td>0.002117</td>\n      <td>46.170413</td>\n      <td>1.318119</td>\n      <td>0.00171</td>\n      <td>0.00171</td>\n      <td>g</td>\n      <td>standard</td>\n      <td>under</td>\n      <td>1</td>\n      <td>1</td>\n    </tr>\n    <tr>\n      <th>...</th>\n      <td>...</td>\n      <td>...</td>\n      <td>...</td>\n      <td>...</td>\n      <td>...</td>\n      <td>...</td>\n      <td>...</td>\n      <td>...</td>\n      <td>...</td>\n      <td>...</td>\n      <td>...</td>\n      <td>...</td>\n      <td>...</td>\n      <td>...</td>\n      <td>...</td>\n      <td>...</td>\n    </tr>\n    <tr>\n      <th>35562</th>\n      <td>2025-09-30 14:00:00+00:00</td>\n      <td>1.34367</td>\n      <td>1.34426</td>\n      <td>1.34234</td>\n      <td>1.34357</td>\n      <td>h1</td>\n      <td>0.001352</td>\n      <td>50.558445</td>\n      <td>1.343351</td>\n      <td>0.00192</td>\n      <td>0.00192</td>\n      <td>r</td>\n      <td>long</td>\n      <td>upper</td>\n      <td>1</td>\n      <td>2</td>\n    </tr>\n    <tr>\n      <th>35563</th>\n      <td>2025-09-30 15:00:00+00:00</td>\n      <td>1.34358</td>\n      <td>1.34508</td>\n      <td>1.34353</td>\n      <td>1.34408</td>\n      <td>h1</td>\n      <td>0.001360</td>\n      <td>56.545719</td>\n      <td>1.343312</td>\n      <td>0.00155</td>\n      <td>0.00155</td>\n      <td>g</td>\n      <td>standard</td>\n      <td>upper</td>\n      <td>1</td>\n      <td>1</td>\n    </tr>\n    <tr>\n      <th>35564</th>\n      <td>2025-09-30 16:00:00+00:00</td>\n      <td>1.34416</td>\n      <td>1.34490</td>\n      <td>1.34124</td>\n      <td>1.34416</td>\n      <td>h1</td>\n      <td>0.001456</td>\n      <td>57.454917</td>\n      <td>1.343330</td>\n      <td>0.00366</td>\n      <td>0.00366</td>\n      <td>y</td>\n      <td>spike</td>\n      <td>upper</td>\n      <td>1</td>\n      <td>3</td>\n    </tr>\n    <tr>\n      <th>35565</th>\n      <td>2025-09-30 17:00:00+00:00</td>\n      <td>1.34408</td>\n      <td>1.34659</td>\n      <td>1.34336</td>\n      <td>1.34606</td>\n      <td>h1</td>\n      <td>0.001530</td>\n      <td>72.710704</td>\n      <td>1.343511</td>\n      <td>0.00323</td>\n      <td>0.00323</td>\n      <td>g</td>\n      <td>long</td>\n      <td>upper</td>\n      <td>1</td>\n      <td>2</td>\n    </tr>\n    <tr>\n      <th>35566</th>\n      <td>2025-09-30 18:00:00+00:00</td>\n      <td>1.34608</td>\n      <td>1.34617</td>\n      <td>1.34351</td>\n      <td>1.34416</td>\n      <td>h1</td>\n      <td>0.001577</td>\n      <td>51.810328</td>\n      <td>1.343555</td>\n      <td>0.00266</td>\n      <td>0.00266</td>\n      <td>r</td>\n      <td>long</td>\n      <td>upper</td>\n      <td>1</td>\n      <td>2</td>\n    </tr>\n  </tbody>\n</table>\n<p>35567 rows × 16 columns</p>\n</div>"
     },
     "execution_count": 136,
     "metadata": {},
     "output_type": "execute_result"
    }
   ],
   "source": [
    "h1"
   ],
   "metadata": {
    "collapsed": false,
    "ExecuteTime": {
     "end_time": "2025-09-30T20:06:32.081441700Z",
     "start_time": "2025-09-30T20:06:32.037543800Z"
    }
   },
   "id": "e259909a3ec277af",
   "execution_count": 136
  },
  {
   "cell_type": "code",
   "outputs": [],
   "source": [
    "import backtrader as bt"
   ],
   "metadata": {
    "collapsed": false,
    "ExecuteTime": {
     "end_time": "2025-09-30T19:59:09.486910500Z",
     "start_time": "2025-09-30T19:59:09.467777300Z"
    }
   },
   "id": "8383575928e8f44e",
   "execution_count": 110
  },
  {
   "cell_type": "code",
   "outputs": [],
   "source": [
    "class CustomPandasData(bt.feeds.PandasData):\n",
    "    lines = ('atr', 'ma','signal','candle_type_id','rsi')  # add new lines\n",
    "    params = (\n",
    "        ('signal', -1),  # map DataFrame column \"atr\"\n",
    "        ('atr', -1),  # map DataFrame column \"atr\"\n",
    "        ('ma', -1),   # map DataFrame column \"ma\"\n",
    "        ('candle_type_id', -1),   # map DataFrame column \"ma\"\n",
    "        ('rsi', -1),   # map DataFrame column \"ma\"\n",
    "    )\n",
    "class SmaStrategy(bt.Strategy):\n",
    "\n",
    "\n",
    "    def next(self):\n",
    "        \n",
    "        if self.data.signal[0] == 1 and self.data.candle_type_id != 0 and self.data.rsi < 20:\n",
    "            price = self.data.close[0]\n",
    "            \n",
    "            entry_price = price\n",
    "            stop_loss   = entry_price - self.data.atr[0] * 2.4\n",
    "            take_profit = entry_price + self.data.atr[0] * 4.8\n",
    "\n",
    "            self.buy_bracket(\n",
    "                price=entry_price,\n",
    "                stopprice=stop_loss,\n",
    "                limitprice=take_profit,\n",
    "                size = 1000\n",
    "            )"
   ],
   "metadata": {
    "collapsed": false,
    "ExecuteTime": {
     "end_time": "2025-09-30T20:23:14.268686800Z",
     "start_time": "2025-09-30T20:23:14.104702600Z"
    }
   },
   "id": "f06000365869ea73",
   "execution_count": 209
  },
  {
   "cell_type": "code",
   "outputs": [],
   "source": [
    "data = CustomPandasData(dataname = h1.set_index(\"datetime\"),)"
   ],
   "metadata": {
    "collapsed": false,
    "ExecuteTime": {
     "end_time": "2025-09-30T20:23:14.445420400Z",
     "start_time": "2025-09-30T20:23:14.311994500Z"
    }
   },
   "id": "d3d8a5b07c4a55d6",
   "execution_count": 210
  },
  {
   "cell_type": "code",
   "outputs": [
    {
     "data": {
      "text/plain": "[<__main__.SmaStrategy at 0x14e2ba88830>]"
     },
     "execution_count": 211,
     "metadata": {},
     "output_type": "execute_result"
    }
   ],
   "source": [
    "\n",
    "cerebro = bt.Cerebro()\n",
    "cerebro.adddata(data)\n",
    "cerebro.addstrategy(SmaStrategy)\n",
    "cerebro.broker.setcash(10000)\n",
    "cerebro.run()\n"
   ],
   "metadata": {
    "collapsed": false,
    "ExecuteTime": {
     "end_time": "2025-09-30T20:23:24.409780Z",
     "start_time": "2025-09-30T20:23:14.466570700Z"
    }
   },
   "id": "e2ead3271779c3e4",
   "execution_count": 211
  },
  {
   "cell_type": "code",
   "outputs": [
    {
     "data": {
      "text/plain": "10126.302398246062"
     },
     "execution_count": 212,
     "metadata": {},
     "output_type": "execute_result"
    }
   ],
   "source": [
    "cerebro.broker.getvalue()"
   ],
   "metadata": {
    "collapsed": false,
    "ExecuteTime": {
     "end_time": "2025-09-30T20:23:24.453456400Z",
     "start_time": "2025-09-30T20:23:24.428701100Z"
    }
   },
   "id": "6f663b4fdf9169bb",
   "execution_count": 212
  },
  {
   "cell_type": "code",
   "outputs": [
    {
     "data": {
      "text/plain": "defaultdict(backtrader.position.Position,\n            {<__main__.CustomPandasData at 0x14e27c47a10>: <backtrader.position.Position at 0x14e2063f650>})"
     },
     "execution_count": 213,
     "metadata": {},
     "output_type": "execute_result"
    }
   ],
   "source": [
    "cerebro.broker.positions"
   ],
   "metadata": {
    "collapsed": false,
    "ExecuteTime": {
     "end_time": "2025-09-30T20:23:24.454619500Z",
     "start_time": "2025-09-30T20:23:24.435663100Z"
    }
   },
   "id": "6cccedb1d3825d35",
   "execution_count": 213
  },
  {
   "cell_type": "code",
   "outputs": [],
   "source": [],
   "metadata": {
    "collapsed": false
   },
   "id": "b7b89837dfaafabd"
  }
 ],
 "metadata": {
  "kernelspec": {
   "display_name": "Python 3",
   "language": "python",
   "name": "python3"
  },
  "language_info": {
   "codemirror_mode": {
    "name": "ipython",
    "version": 2
   },
   "file_extension": ".py",
   "mimetype": "text/x-python",
   "name": "python",
   "nbconvert_exporter": "python",
   "pygments_lexer": "ipython2",
   "version": "2.7.6"
  }
 },
 "nbformat": 4,
 "nbformat_minor": 5
}
