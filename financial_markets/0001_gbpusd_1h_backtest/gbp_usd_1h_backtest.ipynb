{
 "cells": [
  {
   "cell_type": "markdown",
   "source": [
    "## Import"
   ],
   "metadata": {
    "collapsed": false
   },
   "id": "a6afc478e7ad1a7d"
  },
  {
   "cell_type": "code",
   "execution_count": 6,
   "id": "initial_id",
   "metadata": {
    "collapsed": true,
    "ExecuteTime": {
     "end_time": "2025-10-01T20:04:31.102668200Z",
     "start_time": "2025-10-01T20:04:31.081585600Z"
    }
   },
   "outputs": [],
   "source": [
    "import pandas as pd\n",
    "import talib\n",
    "import backtrader as bt\n",
    "from dataclasses import dataclass, asdict"
   ]
  },
  {
   "cell_type": "markdown",
   "source": [
    "## extract"
   ],
   "metadata": {
    "collapsed": false
   },
   "id": "26f5605ac1083e3b"
  },
  {
   "cell_type": "code",
   "outputs": [],
   "source": [
    "daily: pd.DataFrame = pd.read_excel('gbp_usd_1D.xlsx')\n",
    "h1: pd.DataFrame = pd.read_excel('gbp_usd_1h.xlsx')\n",
    "\n"
   ],
   "metadata": {
    "collapsed": false,
    "ExecuteTime": {
     "end_time": "2025-10-01T20:04:35.514667700Z",
     "start_time": "2025-10-01T20:04:31.389570800Z"
    }
   },
   "id": "b3952253fa46de90",
   "execution_count": 7
  },
  {
   "cell_type": "markdown",
   "source": [
    "## transform"
   ],
   "metadata": {
    "collapsed": false
   },
   "id": "feb13965e6fd5990"
  },
  {
   "cell_type": "markdown",
   "source": [
    "### definitions"
   ],
   "metadata": {
    "collapsed": false
   },
   "id": "9280366995155bc7"
  },
  {
   "cell_type": "code",
   "outputs": [],
   "source": [
    "@dataclass\n",
    "class TradeSignal:\n",
    "    order_type: str\n",
    "    entry_price: float\n",
    "    sl: float\n",
    "    tp0: float\n",
    "    tp1: float\n",
    "    tp2: float\n",
    "\n",
    "\n",
    "def set_candle_type(r):\n",
    "    ratio = r['true_range'] / r['atr']\n",
    "\n",
    "    if ratio < 0.8:\n",
    "        return 'spinning'\n",
    "    if 1.2 > ratio >= 0.8:\n",
    "        return 'standard'\n",
    "    if 2.4 > ratio >= 1.2:\n",
    "        return 'long'\n",
    "    if ratio >= 2.4:\n",
    "        return 'spike'\n",
    "\n",
    "\n",
    "def get_candle_type_id(candle_type):\n",
    "    if candle_type == 'spinning':\n",
    "        return 0\n",
    "    if candle_type == 'standard':\n",
    "        return 1\n",
    "    if candle_type == 'long':\n",
    "        return 2\n",
    "    if candle_type == 'spike':\n",
    "        return 3\n",
    "\n",
    "\n",
    "def candle_color(r):\n",
    "    if r['open'] > r['close']:\n",
    "        return 'r'\n",
    "    if r['open'] < r['close']:\n",
    "        return 'g'\n",
    "\n",
    "    return 'y'\n",
    "\n",
    "\n",
    "def set_ma_status(row):\n",
    "    if row['close'] > row['ma']:\n",
    "        return 'upper'\n",
    "    if row['close'] < row['ma']:\n",
    "        return 'under'\n",
    "    return 'eq'\n",
    "\n",
    "\n"
   ],
   "metadata": {
    "collapsed": false,
    "ExecuteTime": {
     "end_time": "2025-10-01T20:04:35.517995400Z",
     "start_time": "2025-10-01T20:04:35.512464600Z"
    }
   },
   "id": "8cecd929bf2369bd",
   "execution_count": 8
  },
  {
   "cell_type": "markdown",
   "source": [
    "### indicators"
   ],
   "metadata": {
    "collapsed": false
   },
   "id": "73f7903c22d8cd9f"
  },
  {
   "cell_type": "code",
   "outputs": [],
   "source": [
    "h1['atr'] = talib.ATR(\n",
    "    close=h1['close'],\n",
    "    high=h1['high'],\n",
    "    low=h1['low'],\n",
    "    timeperiod=24\n",
    ")\n",
    "h1['rsi'] = talib.RSI(\n",
    "    real=h1['close'],\n",
    "    timeperiod=9\n",
    ")\n",
    "h1['ma'] = talib.MA(\n",
    "    real=h1['close'],\n",
    "    timeperiod=24\n",
    ")\n",
    "h1['true_range'] = talib.TRANGE(\n",
    "    close=h1['close'],\n",
    "    high=h1['high'],\n",
    "    low=h1['low'],\n",
    ")\n"
   ],
   "metadata": {
    "collapsed": false,
    "ExecuteTime": {
     "end_time": "2025-10-01T20:04:35.537051700Z",
     "start_time": "2025-10-01T20:04:35.514667700Z"
    }
   },
   "id": "fbf4b07c1b02590e",
   "execution_count": 9
  },
  {
   "cell_type": "markdown",
   "source": [
    "### info"
   ],
   "metadata": {
    "collapsed": false
   },
   "id": "8f975dd3321e621e"
  },
  {
   "cell_type": "code",
   "outputs": [],
   "source": [
    "h1['range'] = h1['high'] - h1['low']\n",
    "h1['candle_color'] = h1.apply(candle_color, axis=1)\n",
    "h1['candle_type'] = h1.apply(set_candle_type, axis=1)\n",
    "h1['candle_type_id'] = h1['candle_type'].apply(get_candle_type_id)\n",
    "h1['ma_status'] = h1.apply(set_ma_status, axis=1)\n",
    "h1['datetime'] = pd.to_datetime(h1['datetime'])\n",
    "h1['signal'] = pd.NA"
   ],
   "metadata": {
    "collapsed": false,
    "ExecuteTime": {
     "end_time": "2025-10-01T20:04:36.378529700Z",
     "start_time": "2025-10-01T20:04:35.530155500Z"
    }
   },
   "id": "6c174370af45ede6",
   "execution_count": 10
  },
  {
   "cell_type": "markdown",
   "source": [
    "\n",
    "### drop Nones"
   ],
   "metadata": {
    "collapsed": false
   },
   "id": "3e9653c199e42174"
  },
  {
   "cell_type": "code",
   "outputs": [],
   "source": [
    "h1 = h1.iloc[24:]\n",
    "h1 = h1.drop(columns=['Unnamed: 0'])\n",
    "h1 = h1.reset_index(drop=True)\n"
   ],
   "metadata": {
    "collapsed": false,
    "ExecuteTime": {
     "end_time": "2025-10-01T20:04:36.398568800Z",
     "start_time": "2025-10-01T20:04:36.382095800Z"
    }
   },
   "id": "e2c7d00d74fe116d",
   "execution_count": 11
  },
  {
   "cell_type": "markdown",
   "source": [
    "### add signals"
   ],
   "metadata": {
    "collapsed": false
   },
   "id": "f986f7a1aac15ffe"
  },
  {
   "cell_type": "code",
   "outputs": [],
   "source": [
    "\n",
    "ma_status = h1.at[0, 'ma_status']\n",
    "for i, element in h1.iterrows():\n",
    "\n",
    "    if ma_status == element['ma_status']:\n",
    "        continue\n",
    "\n",
    "    ma_status = element['ma_status']\n",
    "\n",
    "    h1.loc[i, 'signal'] = 'buy' if ma_status == 'upper' else 'sell'\n",
    "h1['signal'] = h1['signal'].fillna(0)\n",
    "h1['signal_id'] = h1['signal'].apply(lambda s: -1 if s == 'sell' else 1)"
   ],
   "metadata": {
    "collapsed": false,
    "ExecuteTime": {
     "end_time": "2025-10-01T20:04:39.630220100Z",
     "start_time": "2025-10-01T20:04:36.403032800Z"
    }
   },
   "id": "a4e390620c0aae91",
   "execution_count": 12
  },
  {
   "cell_type": "code",
   "outputs": [],
   "source": [
    "class CustomPandasData(bt.feeds.PandasData):\n",
    "    lines = ('atr', 'ma', 'signal_id', 'candle_type_id', 'rsi')  # add new lines\n",
    "    params = (\n",
    "        ('signal_id', -1),\n",
    "        ('atr', -1),\n",
    "        ('ma', -1),\n",
    "        ('candle_type_id', -1),\n",
    "        ('rsi', -1),\n",
    "    )\n"
   ],
   "metadata": {
    "collapsed": false,
    "ExecuteTime": {
     "end_time": "2025-10-01T20:15:21.704033200Z",
     "start_time": "2025-10-01T20:15:21.673894300Z"
    }
   },
   "id": "c9db7ee3f3e130a4",
   "execution_count": 80
  },
  {
   "cell_type": "code",
   "outputs": [],
   "source": [
    "class StrategyA(bt.Strategy):\n",
    "\n",
    "    def calculate_volume(\n",
    "            self,\n",
    "            entry_price: float,\n",
    "            stop_price: float,\n",
    "            balance: int = 10000,\n",
    "            risk: int = 1,\n",
    "    ):\n",
    "        risk_amount = balance * (risk / 100)\n",
    "        per_unit_risk = abs(entry_price - stop_price)\n",
    "        units = risk_amount / per_unit_risk\n",
    "        return int(units)\n",
    "\n",
    "    def next(self):\n",
    "\n",
    "        cal_ma_status = lambda close, ma: 'upper' if close > ma else 'under'\n",
    "\n",
    "        current_ma_status = cal_ma_status(self.data.close[0], self.data.ma[0])\n",
    "        previous_ma_status = cal_ma_status(self.data.close[-1], self.data.ma[-1])\n",
    "\n",
    "        if current_ma_status == previous_ma_status:\n",
    "            return\n",
    "\n",
    "        if current_ma_status == \"upper\":\n",
    "            price = self.data.close[0]\n",
    "\n",
    "            entry_price = price\n",
    "            stop_loss = entry_price - self.data.atr[0] * 2.4\n",
    "            take_profit = entry_price + self.data.atr[0] * 4.8\n",
    "\n",
    "            self.buy_bracket(\n",
    "                price=entry_price,\n",
    "                stopprice=stop_loss,\n",
    "                limitprice=take_profit,\n",
    "                size=self.calculate_volume(\n",
    "                    entry_price,\n",
    "                    stop_loss,\n",
    "                    risk=2\n",
    "                )\n",
    "            )\n",
    "        if current_ma_status == \"under\":\n",
    "            price = self.data.close[0]\n",
    "\n",
    "            entry_price = price\n",
    "            stop_loss = entry_price + self.data.atr[0] * 2.4\n",
    "            take_profit = entry_price - self.data.atr[0] * 4.8\n",
    "\n",
    "            self.sell_bracket(\n",
    "                price=entry_price,\n",
    "                stopprice=stop_loss,\n",
    "                limitprice=take_profit,\n",
    "                size=self.calculate_volume(\n",
    "                    entry_price,\n",
    "                    stop_loss,\n",
    "                    risk=2\n",
    "                )\n",
    "            )\n",
    "\n"
   ],
   "metadata": {
    "collapsed": false,
    "ExecuteTime": {
     "end_time": "2025-10-01T20:15:21.798280600Z",
     "start_time": "2025-10-01T20:15:21.789341600Z"
    }
   },
   "id": "6afbd51e797981a6",
   "execution_count": 81
  },
  {
   "cell_type": "code",
   "outputs": [],
   "source": [
    "data = CustomPandasData(dataname=h1.set_index(\"datetime\"))\n",
    "\n",
    "cerebro = bt.Cerebro()\n",
    "cerebro.adddata(data)\n",
    "cerebro.addstrategy(StrategyA)\n",
    "cerebro.addanalyzer(bt.analyzers.TradeAnalyzer, _name='trade')\n",
    "cerebro.broker.setcash(10000)\n",
    "cerebro.broker.setcommission(commission=0, leverage=500)\n",
    "result = cerebro.run()"
   ],
   "metadata": {
    "collapsed": false,
    "ExecuteTime": {
     "end_time": "2025-10-01T20:15:34.595946300Z",
     "start_time": "2025-10-01T20:15:21.949786500Z"
    }
   },
   "id": "1e10e82e41161b32",
   "execution_count": 82
  },
  {
   "cell_type": "code",
   "outputs": [
    {
     "data": {
      "text/plain": "41040.493430749666"
     },
     "execution_count": 83,
     "metadata": {},
     "output_type": "execute_result"
    }
   ],
   "source": [
    "cerebro.broker.getvalue()"
   ],
   "metadata": {
    "collapsed": false,
    "ExecuteTime": {
     "end_time": "2025-10-01T20:15:34.606336900Z",
     "start_time": "2025-10-01T20:15:34.597042600Z"
    }
   },
   "id": "5c002043f7a80924",
   "execution_count": 83
  },
  {
   "cell_type": "code",
   "outputs": [],
   "source": [
    "trade_rsult = result[0].analyzers[0].get_analysis()"
   ],
   "metadata": {
    "collapsed": false,
    "ExecuteTime": {
     "end_time": "2025-10-01T20:15:34.607490800Z",
     "start_time": "2025-10-01T20:15:34.604205900Z"
    }
   },
   "id": "e4457b67134723e2",
   "execution_count": 84
  },
  {
   "cell_type": "code",
   "outputs": [
    {
     "data": {
      "text/plain": "odict_keys(['total', 'streak', 'pnl', 'won', 'lost', 'long', 'short', 'len'])"
     },
     "execution_count": 85,
     "metadata": {},
     "output_type": "execute_result"
    }
   ],
   "source": [
    "trade_rsult.keys()"
   ],
   "metadata": {
    "collapsed": false,
    "ExecuteTime": {
     "end_time": "2025-10-01T20:15:34.620128200Z",
     "start_time": "2025-10-01T20:15:34.609693900Z"
    }
   },
   "id": "c11605512f1746c3",
   "execution_count": 85
  },
  {
   "cell_type": "code",
   "outputs": [
    {
     "data": {
      "text/plain": "AutoOrderedDict([('total', 1066),\n                 ('pnl',\n                  AutoOrderedDict([('total', 12609.596501570053),\n                                   ('average', 11.828889776332133),\n                                   ('won',\n                                    AutoOrderedDict([('total',\n                                                      130863.84587442495),\n                                                     ('average',\n                                                      389.47573176912186),\n                                                     ('max',\n                                                      2142.6455624368273)])),\n                                   ('lost',\n                                    AutoOrderedDict([('total',\n                                                      -118254.24937285476),\n                                                     ('average',\n                                                      -161.99212242856817),\n                                                     ('max',\n                                                      -2956.1199034602823)]))])),\n                 ('won', 336),\n                 ('lost', 730)])"
     },
     "execution_count": 86,
     "metadata": {},
     "output_type": "execute_result"
    }
   ],
   "source": [
    "trade_rsult['short']"
   ],
   "metadata": {
    "collapsed": false,
    "ExecuteTime": {
     "end_time": "2025-10-01T20:15:34.622433100Z",
     "start_time": "2025-10-01T20:15:34.617661800Z"
    }
   },
   "id": "d7e11def8951467e",
   "execution_count": 86
  },
  {
   "cell_type": "code",
   "outputs": [],
   "source": [],
   "metadata": {
    "collapsed": false
   },
   "id": "f98297cfaaeaba1f"
  }
 ],
 "metadata": {
  "kernelspec": {
   "display_name": "Python 3",
   "language": "python",
   "name": "python3"
  },
  "language_info": {
   "codemirror_mode": {
    "name": "ipython",
    "version": 2
   },
   "file_extension": ".py",
   "mimetype": "text/x-python",
   "name": "python",
   "nbconvert_exporter": "python",
   "pygments_lexer": "ipython2",
   "version": "2.7.6"
  }
 },
 "nbformat": 4,
 "nbformat_minor": 5
}
