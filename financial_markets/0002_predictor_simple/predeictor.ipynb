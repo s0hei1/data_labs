{
 "cells": [
  {
   "cell_type": "code",
   "id": "initial_id",
   "metadata": {
    "collapsed": true,
    "ExecuteTime": {
     "end_time": "2025-10-10T20:15:14.562919Z",
     "start_time": "2025-10-10T20:15:14.559332Z"
    }
   },
   "source": [
    "import numpy as np\n",
    "import pandas as pd\n",
    "import talib\n",
    "import numpy\n",
    "import datetime as dt"
   ],
   "outputs": [],
   "execution_count": 73
  },
  {
   "metadata": {
    "ExecuteTime": {
     "end_time": "2025-10-10T20:14:35.833152Z",
     "start_time": "2025-10-10T20:14:32.780141Z"
    }
   },
   "cell_type": "code",
   "source": "df= pd.read_excel(r'gbp_usd_1h.xlsx')",
   "id": "60aab21924171c3f",
   "outputs": [],
   "execution_count": 65
  },
  {
   "metadata": {
    "ExecuteTime": {
     "end_time": "2025-10-10T20:14:35.844464Z",
     "start_time": "2025-10-10T20:14:35.840090Z"
    }
   },
   "cell_type": "code",
   "source": [
    "df['atr'] = talib.ATR(\n",
    "    df['high'],\n",
    "    df['low'],\n",
    "    df['close'],\n",
    "    timeperiod=14\n",
    ")"
   ],
   "id": "dea0b3b07feb7130",
   "outputs": [],
   "execution_count": 66
  },
  {
   "metadata": {
    "ExecuteTime": {
     "end_time": "2025-10-10T20:14:35.854614Z",
     "start_time": "2025-10-10T20:14:35.850139Z"
    }
   },
   "cell_type": "code",
   "source": [
    "df['ma'] = talib.KAMA(\n",
    "    df['close'],\n",
    "    timeperiod=14\n",
    ")"
   ],
   "id": "93f81104a241bf07",
   "outputs": [],
   "execution_count": 67
  },
  {
   "metadata": {
    "ExecuteTime": {
     "end_time": "2025-10-10T20:14:35.863144Z",
     "start_time": "2025-10-10T20:14:35.860486Z"
    }
   },
   "cell_type": "code",
   "source": "df = df.iloc[25:]",
   "id": "c20f54b588b2db6a",
   "outputs": [],
   "execution_count": 68
  },
  {
   "metadata": {
    "ExecuteTime": {
     "end_time": "2025-10-10T20:14:42.406912Z",
     "start_time": "2025-10-10T20:14:42.399581Z"
    }
   },
   "cell_type": "code",
   "source": "df : pd.DataFrame= df.reset_index(drop = True)",
   "id": "70ea043b2956d157",
   "outputs": [],
   "execution_count": 71
  },
  {
   "metadata": {
    "ExecuteTime": {
     "end_time": "2025-10-10T20:16:52.751963Z",
     "start_time": "2025-10-10T20:16:52.677728Z"
    }
   },
   "cell_type": "code",
   "source": "df['datetime'] = pd.to_datetime(df['datetime'])",
   "id": "1087fd7636349d9",
   "outputs": [],
   "execution_count": 77
  },
  {
   "metadata": {
    "ExecuteTime": {
     "end_time": "2025-10-10T20:19:18.010761Z",
     "start_time": "2025-10-10T20:19:17.932429Z"
    }
   },
   "cell_type": "code",
   "source": "df['timestamp'] = df['datetime'].apply(lambda d: int(d.timestamp()))",
   "id": "2d4f099cf81c706a",
   "outputs": [],
   "execution_count": 79
  },
  {
   "metadata": {
    "ExecuteTime": {
     "end_time": "2025-10-10T20:30:45.362576Z",
     "start_time": "2025-10-10T20:30:45.353929Z"
    }
   },
   "cell_type": "code",
   "source": "array = numpy.array(df[['timestamp','close','low', 'atr']])",
   "id": "be32968c55dba0b4",
   "outputs": [],
   "execution_count": 120
  },
  {
   "metadata": {
    "ExecuteTime": {
     "end_time": "2025-10-10T20:30:45.648010Z",
     "start_time": "2025-10-10T20:30:45.642608Z"
    }
   },
   "cell_type": "code",
   "source": "array[:,3]",
   "id": "4de9a2b50e57ba81",
   "outputs": [
    {
     "data": {
      "text/plain": [
       "array([0.00223147, 0.00214137, 0.00211484, ..., 0.0015302 , 0.00165161,\n",
       "       0.00172364], shape=(35566,))"
      ]
     },
     "execution_count": 121,
     "metadata": {},
     "output_type": "execute_result"
    }
   ],
   "execution_count": 121
  },
  {
   "metadata": {
    "ExecuteTime": {
     "end_time": "2025-10-10T20:38:18.225776Z",
     "start_time": "2025-10-10T20:38:17.779935Z"
    }
   },
   "cell_type": "code",
   "source": [
    "patterns = []\n",
    "array_size = array.shape[0]\n",
    "for i,element in enumerate(array):\n",
    "    if i == array_size - 7:\n",
    "        break\n",
    "\n",
    "    pat = array[i:i+7,:].copy()\n",
    "\n",
    "    pat[:,1] = pat[:,1] - min(pat[:,2])\n",
    "    pat[:,1] = pat[:,1] / pat[:,3]\n",
    "    pat = pat[:, 1]\n",
    "    patterns.append(pat)"
   ],
   "id": "a81493ce9a8f465a",
   "outputs": [],
   "execution_count": 146
  },
  {
   "metadata": {
    "ExecuteTime": {
     "end_time": "2025-10-10T20:38:19.503014Z",
     "start_time": "2025-10-10T20:38:19.498828Z"
    }
   },
   "cell_type": "code",
   "source": "any_pat = patterns[10]",
   "id": "bb45b09364034d28",
   "outputs": [],
   "execution_count": 147
  },
  {
   "metadata": {
    "ExecuteTime": {
     "end_time": "2025-10-10T20:39:01.389374Z",
     "start_time": "2025-10-10T20:39:01.385291Z"
    }
   },
   "cell_type": "code",
   "source": "X = any_pat[0:6]",
   "id": "675c62d2f6d34522",
   "outputs": [],
   "execution_count": 150
  },
  {
   "metadata": {
    "ExecuteTime": {
     "end_time": "2025-10-10T20:39:15.839504Z",
     "start_time": "2025-10-10T20:39:15.835806Z"
    }
   },
   "cell_type": "code",
   "source": "Y = any_pat[6]",
   "id": "abb085443f5fc296",
   "outputs": [],
   "execution_count": 151
  },
  {
   "metadata": {
    "ExecuteTime": {
     "end_time": "2025-10-10T20:40:23.201824Z",
     "start_time": "2025-10-10T20:40:23.173375Z"
    }
   },
   "cell_type": "code",
   "source": "patterns = numpy.array(patterns)",
   "id": "4b6b7a30235fb7f1",
   "outputs": [],
   "execution_count": 155
  },
  {
   "metadata": {
    "ExecuteTime": {
     "end_time": "2025-10-10T20:40:38.818012Z",
     "start_time": "2025-10-10T20:40:38.812904Z"
    }
   },
   "cell_type": "code",
   "source": "final_df = pd.DataFrame(patterns)",
   "id": "3055af3559df89cb",
   "outputs": [],
   "execution_count": 157
  },
  {
   "metadata": {
    "ExecuteTime": {
     "end_time": "2025-10-10T20:40:43.540974Z",
     "start_time": "2025-10-10T20:40:43.518981Z"
    }
   },
   "cell_type": "code",
   "source": "final_df",
   "id": "55b74dd6d77eda73",
   "outputs": [
    {
     "data": {
      "text/plain": [
       "              0         1         2         3         4         5         6\n",
       "0      0.533280  0.438972  1.115923  1.534093  0.694402  0.231913  0.616412\n",
       "1      0.438972  1.115923  1.534093  0.694402  0.231913  0.616412  0.140789\n",
       "2      1.456375  1.879264  1.034518  0.572683  0.968648  0.502817  0.278409\n",
       "3      2.382638  1.530519  1.069639  1.482325  1.030775  0.819759  0.925928\n",
       "4      2.602827  2.144011  2.592845  2.172170  1.990106  2.100150  0.393265\n",
       "...         ...       ...       ...       ...       ...       ...       ...\n",
       "35554  0.840533  0.446368  0.970090  1.383061  1.340325  1.275419  0.756553\n",
       "35555  0.714188  1.222161  1.627130  1.587424  1.528966  1.008737  0.909602\n",
       "35556  1.222161  1.627130  1.587424  1.528966  1.008737  0.909602  1.273451\n",
       "35557  2.440695  2.411087  2.374123  1.849352  1.723067  2.078506  1.908251\n",
       "35558  2.411087  2.374123  1.849352  1.723067  2.078506  1.908251  2.918362\n",
       "\n",
       "[35559 rows x 7 columns]"
      ],
      "text/html": [
       "<div>\n",
       "<style scoped>\n",
       "    .dataframe tbody tr th:only-of-type {\n",
       "        vertical-align: middle;\n",
       "    }\n",
       "\n",
       "    .dataframe tbody tr th {\n",
       "        vertical-align: top;\n",
       "    }\n",
       "\n",
       "    .dataframe thead th {\n",
       "        text-align: right;\n",
       "    }\n",
       "</style>\n",
       "<table border=\"1\" class=\"dataframe\">\n",
       "  <thead>\n",
       "    <tr style=\"text-align: right;\">\n",
       "      <th></th>\n",
       "      <th>0</th>\n",
       "      <th>1</th>\n",
       "      <th>2</th>\n",
       "      <th>3</th>\n",
       "      <th>4</th>\n",
       "      <th>5</th>\n",
       "      <th>6</th>\n",
       "    </tr>\n",
       "  </thead>\n",
       "  <tbody>\n",
       "    <tr>\n",
       "      <th>0</th>\n",
       "      <td>0.533280</td>\n",
       "      <td>0.438972</td>\n",
       "      <td>1.115923</td>\n",
       "      <td>1.534093</td>\n",
       "      <td>0.694402</td>\n",
       "      <td>0.231913</td>\n",
       "      <td>0.616412</td>\n",
       "    </tr>\n",
       "    <tr>\n",
       "      <th>1</th>\n",
       "      <td>0.438972</td>\n",
       "      <td>1.115923</td>\n",
       "      <td>1.534093</td>\n",
       "      <td>0.694402</td>\n",
       "      <td>0.231913</td>\n",
       "      <td>0.616412</td>\n",
       "      <td>0.140789</td>\n",
       "    </tr>\n",
       "    <tr>\n",
       "      <th>2</th>\n",
       "      <td>1.456375</td>\n",
       "      <td>1.879264</td>\n",
       "      <td>1.034518</td>\n",
       "      <td>0.572683</td>\n",
       "      <td>0.968648</td>\n",
       "      <td>0.502817</td>\n",
       "      <td>0.278409</td>\n",
       "    </tr>\n",
       "    <tr>\n",
       "      <th>3</th>\n",
       "      <td>2.382638</td>\n",
       "      <td>1.530519</td>\n",
       "      <td>1.069639</td>\n",
       "      <td>1.482325</td>\n",
       "      <td>1.030775</td>\n",
       "      <td>0.819759</td>\n",
       "      <td>0.925928</td>\n",
       "    </tr>\n",
       "    <tr>\n",
       "      <th>4</th>\n",
       "      <td>2.602827</td>\n",
       "      <td>2.144011</td>\n",
       "      <td>2.592845</td>\n",
       "      <td>2.172170</td>\n",
       "      <td>1.990106</td>\n",
       "      <td>2.100150</td>\n",
       "      <td>0.393265</td>\n",
       "    </tr>\n",
       "    <tr>\n",
       "      <th>...</th>\n",
       "      <td>...</td>\n",
       "      <td>...</td>\n",
       "      <td>...</td>\n",
       "      <td>...</td>\n",
       "      <td>...</td>\n",
       "      <td>...</td>\n",
       "      <td>...</td>\n",
       "    </tr>\n",
       "    <tr>\n",
       "      <th>35554</th>\n",
       "      <td>0.840533</td>\n",
       "      <td>0.446368</td>\n",
       "      <td>0.970090</td>\n",
       "      <td>1.383061</td>\n",
       "      <td>1.340325</td>\n",
       "      <td>1.275419</td>\n",
       "      <td>0.756553</td>\n",
       "    </tr>\n",
       "    <tr>\n",
       "      <th>35555</th>\n",
       "      <td>0.714188</td>\n",
       "      <td>1.222161</td>\n",
       "      <td>1.627130</td>\n",
       "      <td>1.587424</td>\n",
       "      <td>1.528966</td>\n",
       "      <td>1.008737</td>\n",
       "      <td>0.909602</td>\n",
       "    </tr>\n",
       "    <tr>\n",
       "      <th>35556</th>\n",
       "      <td>1.222161</td>\n",
       "      <td>1.627130</td>\n",
       "      <td>1.587424</td>\n",
       "      <td>1.528966</td>\n",
       "      <td>1.008737</td>\n",
       "      <td>0.909602</td>\n",
       "      <td>1.273451</td>\n",
       "    </tr>\n",
       "    <tr>\n",
       "      <th>35557</th>\n",
       "      <td>2.440695</td>\n",
       "      <td>2.411087</td>\n",
       "      <td>2.374123</td>\n",
       "      <td>1.849352</td>\n",
       "      <td>1.723067</td>\n",
       "      <td>2.078506</td>\n",
       "      <td>1.908251</td>\n",
       "    </tr>\n",
       "    <tr>\n",
       "      <th>35558</th>\n",
       "      <td>2.411087</td>\n",
       "      <td>2.374123</td>\n",
       "      <td>1.849352</td>\n",
       "      <td>1.723067</td>\n",
       "      <td>2.078506</td>\n",
       "      <td>1.908251</td>\n",
       "      <td>2.918362</td>\n",
       "    </tr>\n",
       "  </tbody>\n",
       "</table>\n",
       "<p>35559 rows × 7 columns</p>\n",
       "</div>"
      ]
     },
     "execution_count": 158,
     "metadata": {},
     "output_type": "execute_result"
    }
   ],
   "execution_count": 158
  },
  {
   "metadata": {},
   "cell_type": "code",
   "outputs": [],
   "execution_count": null,
   "source": "",
   "id": "7d9aa382182a9782"
  }
 ],
 "metadata": {
  "kernelspec": {
   "display_name": "Python 3",
   "language": "python",
   "name": "python3"
  },
  "language_info": {
   "codemirror_mode": {
    "name": "ipython",
    "version": 2
   },
   "file_extension": ".py",
   "mimetype": "text/x-python",
   "name": "python",
   "nbconvert_exporter": "python",
   "pygments_lexer": "ipython2",
   "version": "2.7.6"
  }
 },
 "nbformat": 4,
 "nbformat_minor": 5
}
