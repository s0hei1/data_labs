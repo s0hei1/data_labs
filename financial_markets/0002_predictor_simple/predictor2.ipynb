{
 "cells": [
  {
   "cell_type": "code",
   "id": "initial_id",
   "metadata": {
    "collapsed": true,
    "ExecuteTime": {
     "end_time": "2025-10-11T07:09:33.830448Z",
     "start_time": "2025-10-11T07:09:32.211501Z"
    }
   },
   "source": [
    "import numpy as np\n",
    "import pandas as pd\n",
    "import talib\n",
    "import numpy\n",
    "import datetime as dt\n",
    "\n",
    "df = pd.read_excel(r'gbp_usd_1h.xlsx')\n",
    "df['atr'] = talib.ATR(\n",
    "    df['high'],\n",
    "    df['low'],\n",
    "    df['close'],\n",
    "    timeperiod=24\n",
    ")\n",
    "df['ma'] = talib.KAMA(\n",
    "    df['close'],\n",
    "    timeperiod=14\n",
    ")\n",
    "\n",
    "df['adx'] = talib.ADX(\n",
    "    df['high'],\n",
    "    df['low'],\n",
    "    df['close'],\n",
    "    timeperiod=24\n",
    ")"
   ],
   "outputs": [],
   "execution_count": 41
  },
  {
   "metadata": {
    "ExecuteTime": {
     "end_time": "2025-10-11T07:09:33.841089Z",
     "start_time": "2025-10-11T07:09:33.834608Z"
    }
   },
   "cell_type": "code",
   "source": "df = df.iloc[47:].reset_index(drop=True)",
   "id": "ef120cb191edf159",
   "outputs": [],
   "execution_count": 42
  },
  {
   "metadata": {
    "ExecuteTime": {
     "end_time": "2025-10-11T07:09:33.853515Z",
     "start_time": "2025-10-11T07:09:33.848180Z"
    }
   },
   "cell_type": "code",
   "source": "df = df.drop(columns=['Unnamed: 0'])",
   "id": "99e947f7efc6a52b",
   "outputs": [],
   "execution_count": 43
  },
  {
   "metadata": {
    "ExecuteTime": {
     "end_time": "2025-10-11T07:09:34.022400Z",
     "start_time": "2025-10-11T07:09:33.864842Z"
    }
   },
   "cell_type": "code",
   "source": [
    "def set_ma_status(row):\n",
    "    if row['close'] > row['ma']:\n",
    "        return 'upper'\n",
    "    if row['close'] < row['ma']:\n",
    "        return 'under'\n",
    "    return 'eq'\n",
    "\n",
    "df['ma_status'] = df.apply(set_ma_status, axis=1)"
   ],
   "id": "575c83cf2e8fe530",
   "outputs": [],
   "execution_count": 44
  },
  {
   "metadata": {
    "ExecuteTime": {
     "end_time": "2025-10-11T07:24:12.329664Z",
     "start_time": "2025-10-11T07:24:12.325954Z"
    }
   },
   "cell_type": "code",
   "source": "df['id'] = df.index",
   "id": "f1263e3f8ebc9d3c",
   "outputs": [],
   "execution_count": 48
  },
  {
   "metadata": {
    "ExecuteTime": {
     "end_time": "2025-10-11T09:35:01.933195Z",
     "start_time": "2025-10-11T09:35:01.930964Z"
    }
   },
   "cell_type": "code",
   "source": "import numpy as np",
   "id": "60cd044e5b71e239",
   "outputs": [],
   "execution_count": 57
  },
  {
   "metadata": {
    "ExecuteTime": {
     "end_time": "2025-10-11T09:38:13.808521Z",
     "start_time": "2025-10-11T09:38:13.800580Z"
    }
   },
   "cell_type": "code",
   "source": [
    "df ['entry'] = df['close']\n",
    "df['tp_buy'] = df['close'] + (df['atr'] * 2.4)\n",
    "df['tp_sell'] = df['close'] + (df['atr'] * 2.4)"
   ],
   "id": "24997b5f0d734ab",
   "outputs": [],
   "execution_count": 59
  },
  {
   "metadata": {
    "ExecuteTime": {
     "end_time": "2025-10-11T09:40:52.593255Z",
     "start_time": "2025-10-11T09:40:52.483818Z"
    }
   },
   "cell_type": "code",
   "source": [
    "df['datetime'] = pd.to_datetime(df['datetime'])\n",
    "df['timestamp'] = df['datetime'].apply(lambda d: int(d.timestamp()))"
   ],
   "id": "2009fe546fc725a8",
   "outputs": [],
   "execution_count": 62
  },
  {
   "metadata": {
    "ExecuteTime": {
     "end_time": "2025-10-11T09:42:16.279886Z",
     "start_time": "2025-10-11T09:42:16.273180Z"
    }
   },
   "cell_type": "code",
   "source": "array = np.array(df[['timestamp', 'open', 'high', 'low', 'close', 'atr','adx', 'tp_buy', 'tp_sell']])",
   "id": "49bc6bccb29be270",
   "outputs": [],
   "execution_count": 64
  },
  {
   "metadata": {
    "ExecuteTime": {
     "end_time": "2025-10-11T09:44:38.112131Z",
     "start_time": "2025-10-11T09:44:38.092185Z"
    }
   },
   "cell_type": "code",
   "source": [
    "patterns = []\n",
    "array_size = len(array)\n",
    "\n",
    "for i, element in enumerate(array):\n",
    "    if i+7 == array_size:\n",
    "        break\n",
    "\n",
    "    pat = array[i:i+7,:]\n",
    "    patterns.append(pat)"
   ],
   "id": "75d94301843d7405",
   "outputs": [],
   "execution_count": 66
  },
  {
   "metadata": {
    "ExecuteTime": {
     "end_time": "2025-10-11T10:26:31.955906Z",
     "start_time": "2025-10-11T10:26:31.952655Z"
    }
   },
   "cell_type": "code",
   "source": [
    "def get_trade_from_pattern(pattern : np.array):\n",
    "    timestamp = pattern[-1,0]\n",
    "    entry = pattern[-1,4]\n",
    "    tp_buy = pattern[-1,7]\n",
    "    tp_sell = pattern[-1,8]\n",
    "\n",
    "    return timestamp, entry, tp_buy, tp_sell\n",
    "\n",
    "any_trade = get_trade_from_pattern(patterns[10])"
   ],
   "id": "25aee9a4eb4a2a4",
   "outputs": [],
   "execution_count": 74
  },
  {
   "metadata": {
    "ExecuteTime": {
     "end_time": "2025-10-11T10:26:48.055752Z",
     "start_time": "2025-10-11T10:26:48.052844Z"
    }
   },
   "cell_type": "code",
   "source": [
    "def evaluate_trade_result(chart : np.array, trade : tuple):\n",
    "    timestamp, entry, tp_buy, tp_sell = trade\n",
    "\n",
    "    backtest_chart = chart[chart[:,0] >= timestamp]\n",
    "\n",
    "    for i,element in enumerate(backtest_chart):\n",
    "        price_high =\n",
    "        price_low =\n",
    "\n",
    "    return backtest_chart"
   ],
   "id": "b29fb83c8b3d1fea",
   "outputs": [],
   "execution_count": 76
  },
  {
   "metadata": {
    "ExecuteTime": {
     "end_time": "2025-10-11T10:26:48.709600Z",
     "start_time": "2025-10-11T10:26:48.702233Z"
    }
   },
   "cell_type": "code",
   "source": "evaluate_trade_result(array, any_trade)",
   "id": "35876e30057c834d",
   "outputs": [
    {
     "data": {
      "text/plain": [
       "array([[1.57831920e+09, 1.31556000e+00, 1.31560000e+00, ...,\n",
       "        3.03746796e+01, 1.31891337e+00, 1.31891337e+00],\n",
       "       [1.57832280e+09, 1.31378000e+00, 1.31478000e+00, ...,\n",
       "        2.97211584e+01, 1.31901865e+00, 1.31901865e+00],\n",
       "       [1.57832640e+09, 1.31394000e+00, 1.31599000e+00, ...,\n",
       "        2.92941954e+01, 1.31869304e+00, 1.31869304e+00],\n",
       "       ...,\n",
       "       [1.75924800e+09, 1.34416000e+00, 1.34490000e+00, ...,\n",
       "        1.19894924e+01, 1.34765473e+00, 1.34765473e+00],\n",
       "       [1.75925160e+09, 1.34408000e+00, 1.34659000e+00, ...,\n",
       "        1.17493498e+01, 1.34973212e+00, 1.34973212e+00],\n",
       "       [1.75925520e+09, 1.34608000e+00, 1.34617000e+00, ...,\n",
       "        1.15192132e+01, 1.34794511e+00, 1.34794511e+00]], shape=(35528, 9))"
      ]
     },
     "execution_count": 77,
     "metadata": {},
     "output_type": "execute_result"
    }
   ],
   "execution_count": 77
  },
  {
   "metadata": {},
   "cell_type": "code",
   "outputs": [],
   "execution_count": null,
   "source": "",
   "id": "1d5941c91e0fef14"
  }
 ],
 "metadata": {
  "kernelspec": {
   "display_name": "Python 3",
   "language": "python",
   "name": "python3"
  },
  "language_info": {
   "codemirror_mode": {
    "name": "ipython",
    "version": 2
   },
   "file_extension": ".py",
   "mimetype": "text/x-python",
   "name": "python",
   "nbconvert_exporter": "python",
   "pygments_lexer": "ipython2",
   "version": "2.7.6"
  }
 },
 "nbformat": 4,
 "nbformat_minor": 5
}
