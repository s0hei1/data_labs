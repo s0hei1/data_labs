{
 "cells": [
  {
   "cell_type": "code",
   "id": "initial_id",
   "metadata": {
    "collapsed": true,
    "ExecuteTime": {
     "end_time": "2025-10-11T19:36:49.227654Z",
     "start_time": "2025-10-11T19:36:46.551125Z"
    }
   },
   "source": [
    "import numpy as np\n",
    "import pandas as pd\n",
    "import talib\n",
    "import numpy\n",
    "import datetime as dt\n",
    "pd.set_option('display.max_rows', None)  # show all rows\n",
    "pd.set_option('display.max_columns', None)  # show all columns\n",
    "pd.set_option('display.width', None)  # don't wrap lines\n",
    "pd.set_option('display.max_colwidth', None)  # show full text in cells\n",
    "\n",
    "df = pd.read_excel(r'gbp_usd_1h.xlsx')\n",
    "df['atr'] = talib.ATR(\n",
    "    df['high'],\n",
    "    df['low'],\n",
    "    df['close'],\n",
    "    timeperiod=24\n",
    ")\n",
    "df['ma'] = talib.KAMA(\n",
    "    df['close'],\n",
    "    timeperiod=14\n",
    ")\n",
    "\n",
    "df['adx'] = talib.ADX(\n",
    "    df['high'],\n",
    "    df['low'],\n",
    "    df['close'],\n",
    "    timeperiod=24\n",
    ")\n",
    "\n",
    "df['rsi'] = talib.RSI(\n",
    "    df['close'],\n",
    "    timeperiod=14\n",
    ")\n",
    "\n",
    "df['macd'] = talib.RSI(\n",
    "    df['close'],\n",
    "    timeperiod=14\n",
    ")\n"
   ],
   "outputs": [],
   "execution_count": 479
  },
  {
   "metadata": {
    "ExecuteTime": {
     "end_time": "2025-10-11T19:36:49.242631Z",
     "start_time": "2025-10-11T19:36:49.234043Z"
    }
   },
   "cell_type": "code",
   "source": "df = df.iloc[47:].reset_index(drop=True)",
   "id": "ef120cb191edf159",
   "outputs": [],
   "execution_count": 480
  },
  {
   "metadata": {
    "ExecuteTime": {
     "end_time": "2025-10-11T19:36:49.256302Z",
     "start_time": "2025-10-11T19:36:49.248987Z"
    }
   },
   "cell_type": "code",
   "source": "df = df.drop(columns=['Unnamed: 0'])",
   "id": "99e947f7efc6a52b",
   "outputs": [],
   "execution_count": 481
  },
  {
   "metadata": {
    "ExecuteTime": {
     "end_time": "2025-10-11T19:36:49.551284Z",
     "start_time": "2025-10-11T19:36:49.289880Z"
    }
   },
   "cell_type": "code",
   "source": [
    "def set_ma_status(row):\n",
    "    if row['close'] > row['ma']:\n",
    "        return 'upper'\n",
    "    if row['close'] < row['ma']:\n",
    "        return 'under'\n",
    "    return 'eq'\n",
    "\n",
    "\n",
    "df['ma_status'] = df.apply(set_ma_status, axis=1)"
   ],
   "id": "575c83cf2e8fe530",
   "outputs": [],
   "execution_count": 482
  },
  {
   "metadata": {
    "ExecuteTime": {
     "end_time": "2025-10-11T19:36:49.561272Z",
     "start_time": "2025-10-11T19:36:49.557022Z"
    }
   },
   "cell_type": "code",
   "source": "df['id'] = df.index",
   "id": "f1263e3f8ebc9d3c",
   "outputs": [],
   "execution_count": 483
  },
  {
   "metadata": {
    "ExecuteTime": {
     "end_time": "2025-10-11T19:36:49.572499Z",
     "start_time": "2025-10-11T19:36:49.569243Z"
    }
   },
   "cell_type": "code",
   "source": "import numpy as np",
   "id": "60cd044e5b71e239",
   "outputs": [],
   "execution_count": 484
  },
  {
   "metadata": {
    "ExecuteTime": {
     "end_time": "2025-10-11T19:36:49.583552Z",
     "start_time": "2025-10-11T19:36:49.578658Z"
    }
   },
   "cell_type": "code",
   "source": [
    "df['entry'] = df['close']\n",
    "df['tp_buy'] = df['close'] + (df['atr'] * 2.4)\n",
    "df['tp_sell'] = df['close'] - (df['atr'] * 2.4)"
   ],
   "id": "24997b5f0d734ab",
   "outputs": [],
   "execution_count": 485
  },
  {
   "metadata": {
    "ExecuteTime": {
     "end_time": "2025-10-11T19:36:49.715064Z",
     "start_time": "2025-10-11T19:36:49.589320Z"
    }
   },
   "cell_type": "code",
   "source": [
    "df['datetime'] = pd.to_datetime(df['datetime'])\n",
    "df['timestamp'] = df['datetime'].apply(lambda d: int(d.timestamp()))"
   ],
   "id": "2009fe546fc725a8",
   "outputs": [],
   "execution_count": 486
  },
  {
   "metadata": {
    "ExecuteTime": {
     "end_time": "2025-10-11T19:36:49.748579Z",
     "start_time": "2025-10-11T19:36:49.740005Z"
    }
   },
   "cell_type": "code",
   "source": "array = np.array(df[['timestamp', 'open', 'high', 'low', 'close', 'atr', 'adx', 'tp_buy', 'tp_sell']])",
   "id": "49bc6bccb29be270",
   "outputs": [],
   "execution_count": 487
  },
  {
   "metadata": {
    "ExecuteTime": {
     "end_time": "2025-10-11T19:36:50.395299Z",
     "start_time": "2025-10-11T19:36:50.366106Z"
    }
   },
   "cell_type": "code",
   "source": [
    "patterns = []\n",
    "array_size = len(array)\n",
    "\n",
    "for i, element in enumerate(array):\n",
    "    if i + 7 == array_size:\n",
    "        break\n",
    "\n",
    "    pat = array[i:i + 7, :]\n",
    "    patterns.append(pat)"
   ],
   "id": "75d94301843d7405",
   "outputs": [],
   "execution_count": 488
  },
  {
   "metadata": {
    "ExecuteTime": {
     "end_time": "2025-10-11T19:36:50.840588Z",
     "start_time": "2025-10-11T19:36:50.835968Z"
    }
   },
   "cell_type": "code",
   "source": [
    "def get_trade_from_pattern(pattern: np.array):\n",
    "    timestamp = pattern[-1, 0].copy()\n",
    "    entry = pattern[-1, 4].copy()\n",
    "    tp_buy = pattern[-1, 7].copy()\n",
    "    tp_sell = pattern[-1, 8].copy()\n",
    "\n",
    "    return timestamp, entry, tp_buy, tp_sell\n",
    "\n",
    "\n",
    "any_trade = get_trade_from_pattern(patterns[10])"
   ],
   "id": "25aee9a4eb4a2a4",
   "outputs": [],
   "execution_count": 489
  },
  {
   "metadata": {
    "ExecuteTime": {
     "end_time": "2025-10-11T19:36:51.351547Z",
     "start_time": "2025-10-11T19:36:51.345927Z"
    }
   },
   "cell_type": "code",
   "source": [
    "def evaluate_trade_result(chart: np.array, trade: tuple):\n",
    "    timestamp, entry, tp_buy, tp_sell = trade\n",
    "\n",
    "    backtest_chart = chart[chart[:, 0] >= timestamp]\n",
    "\n",
    "    for i, element in enumerate(backtest_chart):\n",
    "        price_high = element[2]\n",
    "        price_low = element[3]\n",
    "\n",
    "        # print(f'entry: {entry} price_high: {price_high} price_low: {price_low}')\n",
    "        # print(f'tp_buy: {tp_buy} tp_sell: {tp_sell}')\n",
    "\n",
    "        if price_high > tp_buy:\n",
    "            return \"buy\"\n",
    "\n",
    "        if price_low < tp_sell:\n",
    "            return \"sell\"\n",
    "\n",
    "    return \"None\""
   ],
   "id": "b29fb83c8b3d1fea",
   "outputs": [],
   "execution_count": 490
  },
  {
   "metadata": {
    "ExecuteTime": {
     "end_time": "2025-10-11T19:37:13.585857Z",
     "start_time": "2025-10-11T19:36:51.964231Z"
    }
   },
   "cell_type": "code",
   "source": [
    "trade_result = []\n",
    "for pat in patterns:\n",
    "    trade = get_trade_from_pattern(pat)\n",
    "    result = evaluate_trade_result(array, trade)\n",
    "    trade_result.append((trade[0], result))"
   ],
   "id": "35876e30057c834d",
   "outputs": [],
   "execution_count": 491
  },
  {
   "metadata": {
    "ExecuteTime": {
     "end_time": "2025-10-11T19:37:13.743645Z",
     "start_time": "2025-10-11T19:37:13.593899Z"
    }
   },
   "cell_type": "code",
   "source": [
    "patterns_for_train = []\n",
    "for pat in patterns:\n",
    "    id = pat[-1, 0]\n",
    "    closes = pat[:, 4]\n",
    "    atr = pat[-1, 5]\n",
    "    adx = pat[-1, 6]\n",
    "    result = np.array([id, atr, adx])\n",
    "    result = np.hstack((result, closes))\n",
    "    patterns_for_train.append(result)"
   ],
   "id": "1d5941c91e0fef14",
   "outputs": [],
   "execution_count": 492
  },
  {
   "metadata": {
    "ExecuteTime": {
     "end_time": "2025-10-11T19:37:13.849054Z",
     "start_time": "2025-10-11T19:37:13.750820Z"
    }
   },
   "cell_type": "code",
   "source": [
    "patterns_for_train_df = pd.DataFrame(patterns_for_train, columns=[\n",
    "    'timestamp',\n",
    "    'atr',\n",
    "    'adx',\n",
    "    'close_1',\n",
    "    'close_2',\n",
    "    'close_3',\n",
    "    'close_4',\n",
    "    'close_5',\n",
    "    'close_6',\n",
    "    'close_7',\n",
    "])"
   ],
   "id": "3d990d25949a4665",
   "outputs": [],
   "execution_count": 493
  },
  {
   "metadata": {
    "ExecuteTime": {
     "end_time": "2025-10-11T19:37:13.861551Z",
     "start_time": "2025-10-11T19:37:13.859624Z"
    }
   },
   "cell_type": "code",
   "source": "",
   "id": "3503445fdfb40327",
   "outputs": [],
   "execution_count": null
  },
  {
   "metadata": {
    "ExecuteTime": {
     "end_time": "2025-10-11T19:37:13.882878Z",
     "start_time": "2025-10-11T19:37:13.868094Z"
    }
   },
   "cell_type": "code",
   "source": "trade_result_df = pd.DataFrame(trade_result, columns=['timestamp', 'result'])",
   "id": "8fb8fbcbaffc2dd0",
   "outputs": [],
   "execution_count": 494
  },
  {
   "metadata": {
    "ExecuteTime": {
     "end_time": "2025-10-11T19:37:13.897279Z",
     "start_time": "2025-10-11T19:37:13.888994Z"
    }
   },
   "cell_type": "code",
   "source": "patterns_for_train_df = pd.merge(patterns_for_train_df, trade_result_df, on='timestamp')",
   "id": "5e7d81f6e7da35a6",
   "outputs": [],
   "execution_count": 495
  },
  {
   "metadata": {
    "ExecuteTime": {
     "end_time": "2025-10-11T19:37:13.907560Z",
     "start_time": "2025-10-11T19:37:13.903060Z"
    }
   },
   "cell_type": "code",
   "source": "df_ma_statuses = df[['timestamp', 'ma_status', 'macd', 'rsi']]",
   "id": "23d045452c1c7640",
   "outputs": [],
   "execution_count": 496
  },
  {
   "metadata": {
    "ExecuteTime": {
     "end_time": "2025-10-11T19:37:13.925542Z",
     "start_time": "2025-10-11T19:37:13.916367Z"
    }
   },
   "cell_type": "code",
   "source": "final_patterns_for_training = pd.merge(patterns_for_train_df, df_ma_statuses, on='timestamp')",
   "id": "737cf2b16e82c158",
   "outputs": [],
   "execution_count": 497
  },
  {
   "metadata": {
    "ExecuteTime": {
     "end_time": "2025-10-11T19:37:13.956226Z",
     "start_time": "2025-10-11T19:37:13.938781Z"
    }
   },
   "cell_type": "code",
   "source": [
    "final_patterns_for_training = final_patterns_for_training[\n",
    "    final_patterns_for_training['result'] != 'None'\n",
    "    ]"
   ],
   "id": "ca4147976bac33af",
   "outputs": [],
   "execution_count": 498
  },
  {
   "metadata": {
    "ExecuteTime": {
     "end_time": "2025-10-11T19:37:17.985694Z",
     "start_time": "2025-10-11T19:37:17.970810Z"
    }
   },
   "cell_type": "code",
   "source": [
    "final_patterns_for_training['result'] = (\n",
    "    final_patterns_for_training['result'].apply(lambda x: 1 if x == 'buy' else 0)\n",
    ")"
   ],
   "id": "4472d7e17e3d6ce2",
   "outputs": [],
   "execution_count": 499
  },
  {
   "metadata": {
    "ExecuteTime": {
     "end_time": "2025-10-11T19:37:24.974289Z",
     "start_time": "2025-10-11T19:37:24.958949Z"
    }
   },
   "cell_type": "code",
   "source": [
    "final_patterns_for_training['ma_status'] = (\n",
    "    final_patterns_for_training['ma_status'].apply(lambda x: 1 if x == 'upper' else 0)\n",
    ")"
   ],
   "id": "4836d0fade6e2954",
   "outputs": [],
   "execution_count": 500
  },
  {
   "metadata": {
    "ExecuteTime": {
     "end_time": "2025-10-11T19:37:25.300648Z",
     "start_time": "2025-10-11T19:37:25.295232Z"
    }
   },
   "cell_type": "code",
   "source": "final_patterns_for_training.columns",
   "id": "9c1ce6f0185c2d79",
   "outputs": [
    {
     "data": {
      "text/plain": [
       "Index(['timestamp', 'atr', 'adx', 'close_1', 'close_2', 'close_3', 'close_4',\n",
       "       'close_5', 'close_6', 'close_7', 'result', 'ma_status', 'macd', 'rsi'],\n",
       "      dtype='object')"
      ]
     },
     "execution_count": 501,
     "metadata": {},
     "output_type": "execute_result"
    }
   ],
   "execution_count": 501
  },
  {
   "metadata": {
    "ExecuteTime": {
     "end_time": "2025-10-11T19:37:25.867268Z",
     "start_time": "2025-10-11T19:37:25.854877Z"
    }
   },
   "cell_type": "code",
   "source": [
    "data_set = final_patterns_for_training[\n",
    "    ['timestamp', 'atr', 'adx', 'ma_status', 'macd', 'rsi', 'close_1', 'close_2', 'close_3', 'close_4', 'close_5',\n",
    "     'close_6', 'close_7', 'result']].copy()"
   ],
   "id": "ab2246a57f7216d5",
   "outputs": [],
   "execution_count": 502
  },
  {
   "metadata": {
    "ExecuteTime": {
     "end_time": "2025-10-11T19:37:26.343478Z",
     "start_time": "2025-10-11T19:37:26.333955Z"
    }
   },
   "cell_type": "code",
   "source": [
    "data_set['previous_result_1'] = data_set['result'].shift(1)\n",
    "data_set['previous_result_2'] = data_set['result'].shift(2)\n",
    "data_set['previous_result_3'] = data_set['result'].shift(3)\n",
    "\n",
    "\n",
    "data_set['previous_result_sum'] = \\\n",
    "    (\n",
    "            (data_set['previous_result_1'] * 3) +\n",
    "            (data_set['previous_result_2'] * 2) +\n",
    "            data_set['previous_result_3']\n",
    "    )\n"
   ],
   "id": "9015cebc32d136e9",
   "outputs": [],
   "execution_count": 503
  },
  {
   "metadata": {
    "ExecuteTime": {
     "end_time": "2025-10-11T19:37:26.866595Z",
     "start_time": "2025-10-11T19:37:26.862765Z"
    }
   },
   "cell_type": "code",
   "source": "data_set = data_set.iloc[5:]",
   "id": "ae5d6b0cd8c27750",
   "outputs": [],
   "execution_count": 504
  },
  {
   "metadata": {
    "ExecuteTime": {
     "end_time": "2025-10-11T19:37:27.241967Z",
     "start_time": "2025-10-11T19:37:27.231101Z"
    }
   },
   "cell_type": "code",
   "source": "data_set = data_set.reset_index(drop=True)",
   "id": "b27ab817f7915c72",
   "outputs": [],
   "execution_count": 505
  },
  {
   "metadata": {
    "ExecuteTime": {
     "end_time": "2025-10-11T19:37:27.570710Z",
     "start_time": "2025-10-11T19:37:27.551618Z"
    }
   },
   "cell_type": "code",
   "source": "data_set.head(5)",
   "id": "9f2e77cc13c74d4b",
   "outputs": [
    {
     "data": {
      "text/plain": [
       "      timestamp       atr        adx  ma_status       macd        rsi  \\\n",
       "0  1.578301e+09  0.001878  33.496691          0  39.818787  39.818787   \n",
       "1  1.578305e+09  0.001985  32.393252          1  54.709231  54.709231   \n",
       "2  1.578308e+09  0.002092  31.620912          1  65.309660  65.309660   \n",
       "3  1.578312e+09  0.002153  31.278805          1  67.350579  67.350579   \n",
       "4  1.578316e+09  0.002161  30.965834          1  68.279808  68.279808   \n",
       "\n",
       "   close_1  close_2  close_3  close_4  close_5  close_6  close_7  result  \\\n",
       "0  1.30782  1.30866  1.30811  1.30830  1.30804  1.30818  1.30719       1   \n",
       "1  1.30866  1.30811  1.30830  1.30804  1.30818  1.30719  1.31046       1   \n",
       "2  1.30811  1.30830  1.30804  1.30818  1.30719  1.31046  1.31421       1   \n",
       "3  1.30830  1.30804  1.30818  1.30719  1.31046  1.31421  1.31514       1   \n",
       "4  1.30804  1.30818  1.30719  1.31046  1.31421  1.31514  1.31557       1   \n",
       "\n",
       "   previous_result_1  previous_result_2  previous_result_3  \\\n",
       "0                1.0                1.0                1.0   \n",
       "1                1.0                1.0                1.0   \n",
       "2                1.0                1.0                1.0   \n",
       "3                1.0                1.0                1.0   \n",
       "4                1.0                1.0                1.0   \n",
       "\n",
       "   previous_result_sum  \n",
       "0                  6.0  \n",
       "1                  6.0  \n",
       "2                  6.0  \n",
       "3                  6.0  \n",
       "4                  6.0  "
      ],
      "text/html": [
       "<div>\n",
       "<style scoped>\n",
       "    .dataframe tbody tr th:only-of-type {\n",
       "        vertical-align: middle;\n",
       "    }\n",
       "\n",
       "    .dataframe tbody tr th {\n",
       "        vertical-align: top;\n",
       "    }\n",
       "\n",
       "    .dataframe thead th {\n",
       "        text-align: right;\n",
       "    }\n",
       "</style>\n",
       "<table border=\"1\" class=\"dataframe\">\n",
       "  <thead>\n",
       "    <tr style=\"text-align: right;\">\n",
       "      <th></th>\n",
       "      <th>timestamp</th>\n",
       "      <th>atr</th>\n",
       "      <th>adx</th>\n",
       "      <th>ma_status</th>\n",
       "      <th>macd</th>\n",
       "      <th>rsi</th>\n",
       "      <th>close_1</th>\n",
       "      <th>close_2</th>\n",
       "      <th>close_3</th>\n",
       "      <th>close_4</th>\n",
       "      <th>close_5</th>\n",
       "      <th>close_6</th>\n",
       "      <th>close_7</th>\n",
       "      <th>result</th>\n",
       "      <th>previous_result_1</th>\n",
       "      <th>previous_result_2</th>\n",
       "      <th>previous_result_3</th>\n",
       "      <th>previous_result_sum</th>\n",
       "    </tr>\n",
       "  </thead>\n",
       "  <tbody>\n",
       "    <tr>\n",
       "      <th>0</th>\n",
       "      <td>1.578301e+09</td>\n",
       "      <td>0.001878</td>\n",
       "      <td>33.496691</td>\n",
       "      <td>0</td>\n",
       "      <td>39.818787</td>\n",
       "      <td>39.818787</td>\n",
       "      <td>1.30782</td>\n",
       "      <td>1.30866</td>\n",
       "      <td>1.30811</td>\n",
       "      <td>1.30830</td>\n",
       "      <td>1.30804</td>\n",
       "      <td>1.30818</td>\n",
       "      <td>1.30719</td>\n",
       "      <td>1</td>\n",
       "      <td>1.0</td>\n",
       "      <td>1.0</td>\n",
       "      <td>1.0</td>\n",
       "      <td>6.0</td>\n",
       "    </tr>\n",
       "    <tr>\n",
       "      <th>1</th>\n",
       "      <td>1.578305e+09</td>\n",
       "      <td>0.001985</td>\n",
       "      <td>32.393252</td>\n",
       "      <td>1</td>\n",
       "      <td>54.709231</td>\n",
       "      <td>54.709231</td>\n",
       "      <td>1.30866</td>\n",
       "      <td>1.30811</td>\n",
       "      <td>1.30830</td>\n",
       "      <td>1.30804</td>\n",
       "      <td>1.30818</td>\n",
       "      <td>1.30719</td>\n",
       "      <td>1.31046</td>\n",
       "      <td>1</td>\n",
       "      <td>1.0</td>\n",
       "      <td>1.0</td>\n",
       "      <td>1.0</td>\n",
       "      <td>6.0</td>\n",
       "    </tr>\n",
       "    <tr>\n",
       "      <th>2</th>\n",
       "      <td>1.578308e+09</td>\n",
       "      <td>0.002092</td>\n",
       "      <td>31.620912</td>\n",
       "      <td>1</td>\n",
       "      <td>65.309660</td>\n",
       "      <td>65.309660</td>\n",
       "      <td>1.30811</td>\n",
       "      <td>1.30830</td>\n",
       "      <td>1.30804</td>\n",
       "      <td>1.30818</td>\n",
       "      <td>1.30719</td>\n",
       "      <td>1.31046</td>\n",
       "      <td>1.31421</td>\n",
       "      <td>1</td>\n",
       "      <td>1.0</td>\n",
       "      <td>1.0</td>\n",
       "      <td>1.0</td>\n",
       "      <td>6.0</td>\n",
       "    </tr>\n",
       "    <tr>\n",
       "      <th>3</th>\n",
       "      <td>1.578312e+09</td>\n",
       "      <td>0.002153</td>\n",
       "      <td>31.278805</td>\n",
       "      <td>1</td>\n",
       "      <td>67.350579</td>\n",
       "      <td>67.350579</td>\n",
       "      <td>1.30830</td>\n",
       "      <td>1.30804</td>\n",
       "      <td>1.30818</td>\n",
       "      <td>1.30719</td>\n",
       "      <td>1.31046</td>\n",
       "      <td>1.31421</td>\n",
       "      <td>1.31514</td>\n",
       "      <td>1</td>\n",
       "      <td>1.0</td>\n",
       "      <td>1.0</td>\n",
       "      <td>1.0</td>\n",
       "      <td>6.0</td>\n",
       "    </tr>\n",
       "    <tr>\n",
       "      <th>4</th>\n",
       "      <td>1.578316e+09</td>\n",
       "      <td>0.002161</td>\n",
       "      <td>30.965834</td>\n",
       "      <td>1</td>\n",
       "      <td>68.279808</td>\n",
       "      <td>68.279808</td>\n",
       "      <td>1.30804</td>\n",
       "      <td>1.30818</td>\n",
       "      <td>1.30719</td>\n",
       "      <td>1.31046</td>\n",
       "      <td>1.31421</td>\n",
       "      <td>1.31514</td>\n",
       "      <td>1.31557</td>\n",
       "      <td>1</td>\n",
       "      <td>1.0</td>\n",
       "      <td>1.0</td>\n",
       "      <td>1.0</td>\n",
       "      <td>6.0</td>\n",
       "    </tr>\n",
       "  </tbody>\n",
       "</table>\n",
       "</div>"
      ]
     },
     "execution_count": 506,
     "metadata": {},
     "output_type": "execute_result"
    }
   ],
   "execution_count": 506
  },
  {
   "metadata": {
    "ExecuteTime": {
     "end_time": "2025-10-11T19:37:28.252613Z",
     "start_time": "2025-10-11T19:37:28.250634Z"
    }
   },
   "cell_type": "code",
   "source": "",
   "id": "2e8708cf47ea1a25",
   "outputs": [],
   "execution_count": null
  },
  {
   "metadata": {},
   "cell_type": "code",
   "outputs": [],
   "execution_count": null,
   "source": "",
   "id": "63fd3a7baf18a43a"
  }
 ],
 "metadata": {
  "kernelspec": {
   "display_name": "Python 3",
   "language": "python",
   "name": "python3"
  },
  "language_info": {
   "codemirror_mode": {
    "name": "ipython",
    "version": 2
   },
   "file_extension": ".py",
   "mimetype": "text/x-python",
   "name": "python",
   "nbconvert_exporter": "python",
   "pygments_lexer": "ipython2",
   "version": "2.7.6"
  }
 },
 "nbformat": 4,
 "nbformat_minor": 5
}
