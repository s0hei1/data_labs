{
 "cells": [
  {
   "cell_type": "code",
   "id": "initial_id",
   "metadata": {
    "collapsed": true,
    "ExecuteTime": {
     "end_time": "2025-05-25T08:15:29.683052Z",
     "start_time": "2025-05-25T08:15:28.593905Z"
    }
   },
   "source": [
    "import pandas as pd\n",
    "import matplotlib.pyplot as plt\n"
   ],
   "outputs": [],
   "execution_count": 8
  },
  {
   "metadata": {
    "ExecuteTime": {
     "end_time": "2025-05-25T08:13:29.186068Z",
     "start_time": "2025-05-25T08:13:29.173698Z"
    }
   },
   "cell_type": "code",
   "source": "df = pd.read_csv('avocado_ripeness_dataset.csv')",
   "id": "13d6dd83b8167c56",
   "outputs": [],
   "execution_count": 2
  },
  {
   "metadata": {
    "ExecuteTime": {
     "end_time": "2025-05-25T08:15:34.944501Z",
     "start_time": "2025-05-25T08:15:34.929073Z"
    }
   },
   "cell_type": "code",
   "source": "df.describe()",
   "id": "3ff9a5b29746182",
   "outputs": [
    {
     "data": {
      "text/plain": [
       "         firmness        hue  saturation  brightness    sound_db    weight_g  \\\n",
       "count  250.000000  250.00000  250.000000   250.00000  250.000000  250.000000   \n",
       "mean    50.618400  125.94400   64.356000    45.07200   58.016000  220.188000   \n",
       "std     27.277678  117.13767   17.377144    19.11629   13.838126   34.405225   \n",
       "min     10.300000    1.00000   30.000000    10.00000   30.000000  152.000000   \n",
       "25%     25.750000   25.25000   51.250000    31.00000   47.250000  193.250000   \n",
       "50%     48.950000   77.00000   65.000000    46.00000   60.000000  220.000000   \n",
       "75%     74.050000  278.75000   76.750000    58.00000   68.000000  245.000000   \n",
       "max     98.800000  329.00000   99.000000    78.00000   79.000000  299.000000   \n",
       "\n",
       "         size_cm3  \n",
       "count  250.000000  \n",
       "mean   208.644000  \n",
       "std     55.940564  \n",
       "min    100.000000  \n",
       "25%    155.250000  \n",
       "50%    218.000000  \n",
       "75%    260.500000  \n",
       "max    299.000000  "
      ],
      "text/html": [
       "<div>\n",
       "<style scoped>\n",
       "    .dataframe tbody tr th:only-of-type {\n",
       "        vertical-align: middle;\n",
       "    }\n",
       "\n",
       "    .dataframe tbody tr th {\n",
       "        vertical-align: top;\n",
       "    }\n",
       "\n",
       "    .dataframe thead th {\n",
       "        text-align: right;\n",
       "    }\n",
       "</style>\n",
       "<table border=\"1\" class=\"dataframe\">\n",
       "  <thead>\n",
       "    <tr style=\"text-align: right;\">\n",
       "      <th></th>\n",
       "      <th>firmness</th>\n",
       "      <th>hue</th>\n",
       "      <th>saturation</th>\n",
       "      <th>brightness</th>\n",
       "      <th>sound_db</th>\n",
       "      <th>weight_g</th>\n",
       "      <th>size_cm3</th>\n",
       "    </tr>\n",
       "  </thead>\n",
       "  <tbody>\n",
       "    <tr>\n",
       "      <th>count</th>\n",
       "      <td>250.000000</td>\n",
       "      <td>250.00000</td>\n",
       "      <td>250.000000</td>\n",
       "      <td>250.00000</td>\n",
       "      <td>250.000000</td>\n",
       "      <td>250.000000</td>\n",
       "      <td>250.000000</td>\n",
       "    </tr>\n",
       "    <tr>\n",
       "      <th>mean</th>\n",
       "      <td>50.618400</td>\n",
       "      <td>125.94400</td>\n",
       "      <td>64.356000</td>\n",
       "      <td>45.07200</td>\n",
       "      <td>58.016000</td>\n",
       "      <td>220.188000</td>\n",
       "      <td>208.644000</td>\n",
       "    </tr>\n",
       "    <tr>\n",
       "      <th>std</th>\n",
       "      <td>27.277678</td>\n",
       "      <td>117.13767</td>\n",
       "      <td>17.377144</td>\n",
       "      <td>19.11629</td>\n",
       "      <td>13.838126</td>\n",
       "      <td>34.405225</td>\n",
       "      <td>55.940564</td>\n",
       "    </tr>\n",
       "    <tr>\n",
       "      <th>min</th>\n",
       "      <td>10.300000</td>\n",
       "      <td>1.00000</td>\n",
       "      <td>30.000000</td>\n",
       "      <td>10.00000</td>\n",
       "      <td>30.000000</td>\n",
       "      <td>152.000000</td>\n",
       "      <td>100.000000</td>\n",
       "    </tr>\n",
       "    <tr>\n",
       "      <th>25%</th>\n",
       "      <td>25.750000</td>\n",
       "      <td>25.25000</td>\n",
       "      <td>51.250000</td>\n",
       "      <td>31.00000</td>\n",
       "      <td>47.250000</td>\n",
       "      <td>193.250000</td>\n",
       "      <td>155.250000</td>\n",
       "    </tr>\n",
       "    <tr>\n",
       "      <th>50%</th>\n",
       "      <td>48.950000</td>\n",
       "      <td>77.00000</td>\n",
       "      <td>65.000000</td>\n",
       "      <td>46.00000</td>\n",
       "      <td>60.000000</td>\n",
       "      <td>220.000000</td>\n",
       "      <td>218.000000</td>\n",
       "    </tr>\n",
       "    <tr>\n",
       "      <th>75%</th>\n",
       "      <td>74.050000</td>\n",
       "      <td>278.75000</td>\n",
       "      <td>76.750000</td>\n",
       "      <td>58.00000</td>\n",
       "      <td>68.000000</td>\n",
       "      <td>245.000000</td>\n",
       "      <td>260.500000</td>\n",
       "    </tr>\n",
       "    <tr>\n",
       "      <th>max</th>\n",
       "      <td>98.800000</td>\n",
       "      <td>329.00000</td>\n",
       "      <td>99.000000</td>\n",
       "      <td>78.00000</td>\n",
       "      <td>79.000000</td>\n",
       "      <td>299.000000</td>\n",
       "      <td>299.000000</td>\n",
       "    </tr>\n",
       "  </tbody>\n",
       "</table>\n",
       "</div>"
      ]
     },
     "execution_count": 9,
     "metadata": {},
     "output_type": "execute_result"
    }
   ],
   "execution_count": 9
  },
  {
   "metadata": {
    "ExecuteTime": {
     "end_time": "2025-05-25T08:15:54.922850Z",
     "start_time": "2025-05-25T08:15:54.918769Z"
    }
   },
   "cell_type": "code",
   "source": "df.columns",
   "id": "b5a0249faa8a78e9",
   "outputs": [
    {
     "data": {
      "text/plain": [
       "Index(['firmness', 'hue', 'saturation', 'brightness', 'color_category',\n",
       "       'sound_db', 'weight_g', 'size_cm3', 'ripeness'],\n",
       "      dtype='object')"
      ]
     },
     "execution_count": 10,
     "metadata": {},
     "output_type": "execute_result"
    }
   ],
   "execution_count": 10
  },
  {
   "metadata": {
    "ExecuteTime": {
     "end_time": "2025-05-25T08:17:31.145314Z",
     "start_time": "2025-05-25T08:17:31.141544Z"
    }
   },
   "cell_type": "code",
   "source": "df['color_category'].unique().tolist()",
   "id": "d1ba0e1c002ee4fd",
   "outputs": [
    {
     "data": {
      "text/plain": [
       "['black', 'green', 'dark green', 'purple']"
      ]
     },
     "execution_count": 13,
     "metadata": {},
     "output_type": "execute_result"
    }
   ],
   "execution_count": 13
  },
  {
   "metadata": {},
   "cell_type": "markdown",
   "source": "### firmness",
   "id": "7acda362ee3ab262"
  },
  {
   "metadata": {
    "ExecuteTime": {
     "end_time": "2025-05-25T09:14:51.146298Z",
     "start_time": "2025-05-25T09:14:51.061930Z"
    }
   },
   "cell_type": "code",
   "source": "df['firmness'].hist(bins=30)\n",
   "id": "30ea2c5138b20cb1",
   "outputs": [
    {
     "data": {
      "text/plain": [
       "<Axes: >"
      ]
     },
     "execution_count": 22,
     "metadata": {},
     "output_type": "execute_result"
    },
    {
     "data": {
      "text/plain": [
       "<Figure size 640x480 with 1 Axes>"
      ],
      "image/png": "[encoded data removed]"
     },
     "metadata": {},
     "output_type": "display_data"
    }
   ],
   "execution_count": 22
  },
  {
   "metadata": {},
   "cell_type": "code",
   "outputs": [],
   "execution_count": null,
   "source": "",
   "id": "98d20bdf45ccb1c0"
  }
 ],
 "metadata": {
  "kernelspec": {
   "display_name": "Python 3",
   "language": "python",
   "name": "python3"
  },
  "language_info": {
   "codemirror_mode": {
    "name": "ipython",
    "version": 2
   },
   "file_extension": ".py",
   "mimetype": "text/x-python",
   "name": "python",
   "nbconvert_exporter": "python",
   "pygments_lexer": "ipython2",
   "version": "2.7.6"
  }
 },
 "nbformat": 4,
 "nbformat_minor": 5
}
