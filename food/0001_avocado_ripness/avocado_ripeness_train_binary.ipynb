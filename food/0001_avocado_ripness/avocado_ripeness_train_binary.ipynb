{
 "cells": [
  {
   "cell_type": "code",
   "id": "initial_id",
   "metadata": {
    "collapsed": true,
    "ExecuteTime": {
     "end_time": "2025-06-05T07:41:33.318991100Z",
     "start_time": "2025-06-05T07:41:33.277590300Z"
    }
   },
   "source": [
    "import pandas as pd\n",
    "import matplotlib.pyplot as plt\n",
    "import numpy as np\n",
    "\n"
   ],
   "outputs": [],
   "execution_count": 39
  },
  {
   "metadata": {
    "ExecuteTime": {
     "end_time": "2025-06-05T07:41:33.444010300Z",
     "start_time": "2025-06-05T07:41:33.426084600Z"
    }
   },
   "cell_type": "code",
   "source": [
    "df = pd.read_csv('avocado_ripeness_dataset.csv')"
   ],
   "id": "2d2d610d0507c551",
   "outputs": [],
   "execution_count": 40
  },
  {
   "metadata": {
    "ExecuteTime": {
     "end_time": "2025-06-05T07:41:33.527155300Z",
     "start_time": "2025-06-05T07:41:33.514937700Z"
    }
   },
   "cell_type": "code",
   "source": [
    "color_dummies = pd.get_dummies(df['color_category'], prefix=\"color_category\", dtype= int)\n",
    "df = df.join(color_dummies)"
   ],
   "id": "61981e75123b06bf",
   "outputs": [],
   "execution_count": 41
  },
  {
   "metadata": {
    "ExecuteTime": {
     "end_time": "2025-06-05T07:41:33.628731100Z",
     "start_time": "2025-06-05T07:41:33.617625100Z"
    }
   },
   "cell_type": "code",
   "source": [
    "ripenessDict = {\n",
    "    'hard' : 1,\n",
    "    'pre-conditioned' : 2,\n",
    "    'breaking' : 3,\n",
    "    'firm-ripe' : 4,\n",
    "    'ripe' : 5,\n",
    "}\n",
    "\n",
    "df['target'] = df['ripeness'].apply(lambda x: ripenessDict[x])"
   ],
   "id": "21671924bbcba7a1",
   "outputs": [],
   "execution_count": 42
  },
  {
   "metadata": {
    "ExecuteTime": {
     "end_time": "2025-06-05T07:41:33.750624100Z",
     "start_time": "2025-06-05T07:41:33.745070400Z"
    }
   },
   "cell_type": "code",
   "source": [
    "x_cols = ['firmness', 'hue', 'saturation', 'brightness',\n",
    "       'sound_db', 'weight_g', 'size_cm3', 'color_category_black',\n",
    "       'color_category_dark green', 'color_category_green',\n",
    "       'color_category_purple']\n",
    "y_cols = ['target']"
   ],
   "id": "e792455f1cf8a4a7",
   "outputs": [],
   "execution_count": 43
  },
  {
   "metadata": {
    "ExecuteTime": {
     "end_time": "2025-06-05T07:41:33.885282100Z",
     "start_time": "2025-06-05T07:41:33.871173800Z"
    }
   },
   "cell_type": "code",
   "source": [
    "def shuffle_and_split_data(data, test_ratio):\n",
    "    shuffled_indices = np.random.permutation(len(data))\n",
    "    test_set_size = int(len(data) * test_ratio)\n",
    "    test_indices = shuffled_indices[:test_set_size]\n",
    "    train_indices = shuffled_indices[test_set_size:]\n",
    "    return data.iloc[train_indices], data.iloc[test_indices]\n",
    "\n",
    "\n",
    "df_train, df_test = shuffle_and_split_data(df, 0.2)\n",
    "X_train = df_train[x_cols]\n",
    "y_train = df_train[y_cols]\n",
    "X_test = df_test[x_cols]\n",
    "y_test = df_test[y_cols]"
   ],
   "id": "8cd031b00de14cf",
   "outputs": [],
   "execution_count": 44
  },
  {
   "metadata": {
    "ExecuteTime": {
     "end_time": "2025-06-05T07:41:34.006312300Z",
     "start_time": "2025-06-05T07:41:33.997271100Z"
    }
   },
   "cell_type": "code",
   "source": [
    "y_train_5 = (y_train == 5)\n",
    "y_test_5 = (y_test == 5)\n",
    "\n",
    "y_train_5 = y_train_5.to_numpy().ravel()"
   ],
   "id": "2f137f67e638411",
   "outputs": [],
   "execution_count": 45
  },
  {
   "metadata": {
    "ExecuteTime": {
     "end_time": "2025-06-05T07:41:34.516554500Z",
     "start_time": "2025-06-05T07:41:34.510024800Z"
    }
   },
   "cell_type": "code",
   "source": [
    "from sklearn.linear_model import SGDClassifier, LogisticRegression\n",
    "from sklearn.neighbors import KNeighborsClassifier, RadiusNeighborsClassifier\n",
    "from sklearn.svm import SVC\n",
    "from sklearn.tree import DecisionTreeClassifier"
   ],
   "id": "51c46cdac7d0c12c",
   "outputs": [],
   "execution_count": 46
  },
  {
   "metadata": {
    "ExecuteTime": {
     "end_time": "2025-06-05T07:48:00.962810Z",
     "start_time": "2025-06-05T07:48:00.946288Z"
    }
   },
   "cell_type": "code",
   "source": [
    "sgd_clf = SGDClassifier()\n",
    "lgst_clf = LogisticRegression()\n",
    "knn_clf = KNeighborsClassifier(8)\n",
    "svc_clf = SVC()\n",
    "dtree_clf = DecisionTreeClassifier()"
   ],
   "id": "7a1844e5d6b35f04",
   "outputs": [],
   "execution_count": 69
  },
  {
   "cell_type": "code",
   "outputs": [
    {
     "data": {
      "text/plain": "DecisionTreeClassifier()",
      "text/html": "<style>#sk-container-id-9 {\n  /* Definition of color scheme common for light and dark mode */\n  --sklearn-color-text: #000;\n  --sklearn-color-text-muted: #666;\n  --sklearn-color-line: gray;\n  /* Definition of color scheme for unfitted estimators */\n  --sklearn-color-unfitted-level-0: #fff5e6;\n  --sklearn-color-unfitted-level-1: #f6e4d2;\n  --sklearn-color-unfitted-level-2: #ffe0b3;\n  --sklearn-color-unfitted-level-3: chocolate;\n  /* Definition of color scheme for fitted estimators */\n  --sklearn-color-fitted-level-0: #f0f8ff;\n  --sklearn-color-fitted-level-1: #d4ebff;\n  --sklearn-color-fitted-level-2: #b3dbfd;\n  --sklearn-color-fitted-level-3: cornflowerblue;\n\n  /* Specific color for light theme */\n  --sklearn-color-text-on-default-background: var(--sg-text-color, var(--theme-code-foreground, var(--jp-content-font-color1, black)));\n  --sklearn-color-background: var(--sg-background-color, var(--theme-background, var(--jp-layout-color0, white)));\n  --sklearn-color-border-box: var(--sg-text-color, var(--theme-code-foreground, var(--jp-content-font-color1, black)));\n  --sklearn-color-icon: #696969;\n\n  @media (prefers-color-scheme: dark) {\n    /* Redefinition of color scheme for dark theme */\n    --sklearn-color-text-on-default-background: var(--sg-text-color, var(--theme-code-foreground, var(--jp-content-font-color1, white)));\n    --sklearn-color-background: var(--sg-background-color, var(--theme-background, var(--jp-layout-color0, #111)));\n    --sklearn-color-border-box: var(--sg-text-color, var(--theme-code-foreground, var(--jp-content-font-color1, white)));\n    --sklearn-color-icon: #878787;\n  }\n}\n\n#sk-container-id-9 {\n  color: var(--sklearn-color-text);\n}\n\n#sk-container-id-9 pre {\n  padding: 0;\n}\n\n#sk-container-id-9 input.sk-hidden--visually {\n  border: 0;\n  clip: rect(1px 1px 1px 1px);\n  clip: rect(1px, 1px, 1px, 1px);\n  height: 1px;\n  margin: -1px;\n  overflow: hidden;\n  padding: 0;\n  position: absolute;\n  width: 1px;\n}\n\n#sk-container-id-9 div.sk-dashed-wrapped {\n  border: 1px dashed var(--sklearn-color-line);\n  margin: 0 0.4em 0.5em 0.4em;\n  box-sizing: border-box;\n  padding-bottom: 0.4em;\n  background-color: var(--sklearn-color-background);\n}\n\n#sk-container-id-9 div.sk-container {\n  /* jupyter's `normalize.less` sets `[hidden] { display: none; }`\n     but bootstrap.min.css set `[hidden] { display: none !important; }`\n     so we also need the `!important` here to be able to override the\n     default hidden behavior on the sphinx rendered scikit-learn.org.\n     See: https://github.com/scikit-learn/scikit-learn/issues/21755 */\n  display: inline-block !important;\n  position: relative;\n}\n\n#sk-container-id-9 div.sk-text-repr-fallback {\n  display: none;\n}\n\ndiv.sk-parallel-item,\ndiv.sk-serial,\ndiv.sk-item {\n  /* draw centered vertical line to link estimators */\n  background-image: linear-gradient(var(--sklearn-color-text-on-default-background), var(--sklearn-color-text-on-default-background));\n  background-size: 2px 100%;\n  background-repeat: no-repeat;\n  background-position: center center;\n}\n\n/* Parallel-specific style estimator block */\n\n#sk-container-id-9 div.sk-parallel-item::after {\n  content: \"\";\n  width: 100%;\n  border-bottom: 2px solid var(--sklearn-color-text-on-default-background);\n  flex-grow: 1;\n}\n\n#sk-container-id-9 div.sk-parallel {\n  display: flex;\n  align-items: stretch;\n  justify-content: center;\n  background-color: var(--sklearn-color-background);\n  position: relative;\n}\n\n#sk-container-id-9 div.sk-parallel-item {\n  display: flex;\n  flex-direction: column;\n}\n\n#sk-container-id-9 div.sk-parallel-item:first-child::after {\n  align-self: flex-end;\n  width: 50%;\n}\n\n#sk-container-id-9 div.sk-parallel-item:last-child::after {\n  align-self: flex-start;\n  width: 50%;\n}\n\n#sk-container-id-9 div.sk-parallel-item:only-child::after {\n  width: 0;\n}\n\n/* Serial-specific style estimator block */\n\n#sk-container-id-9 div.sk-serial {\n  display: flex;\n  flex-direction: column;\n  align-items: center;\n  background-color: var(--sklearn-color-background);\n  padding-right: 1em;\n  padding-left: 1em;\n}\n\n\n/* Toggleable style: style used for estimator/Pipeline/ColumnTransformer box that is\nclickable and can be expanded/collapsed.\n- Pipeline and ColumnTransformer use this feature and define the default style\n- Estimators will overwrite some part of the style using the `sk-estimator` class\n*/\n\n/* Pipeline and ColumnTransformer style (default) */\n\n#sk-container-id-9 div.sk-toggleable {\n  /* Default theme specific background. It is overwritten whether we have a\n  specific estimator or a Pipeline/ColumnTransformer */\n  background-color: var(--sklearn-color-background);\n}\n\n/* Toggleable label */\n#sk-container-id-9 label.sk-toggleable__label {\n  cursor: pointer;\n  display: flex;\n  width: 100%;\n  margin-bottom: 0;\n  padding: 0.5em;\n  box-sizing: border-box;\n  text-align: center;\n  align-items: start;\n  justify-content: space-between;\n  gap: 0.5em;\n}\n\n#sk-container-id-9 label.sk-toggleable__label .caption {\n  font-size: 0.6rem;\n  font-weight: lighter;\n  color: var(--sklearn-color-text-muted);\n}\n\n#sk-container-id-9 label.sk-toggleable__label-arrow:before {\n  /* Arrow on the left of the label */\n  content: \"▸\";\n  float: left;\n  margin-right: 0.25em;\n  color: var(--sklearn-color-icon);\n}\n\n#sk-container-id-9 label.sk-toggleable__label-arrow:hover:before {\n  color: var(--sklearn-color-text);\n}\n\n/* Toggleable content - dropdown */\n\n#sk-container-id-9 div.sk-toggleable__content {\n  max-height: 0;\n  max-width: 0;\n  overflow: hidden;\n  text-align: left;\n  /* unfitted */\n  background-color: var(--sklearn-color-unfitted-level-0);\n}\n\n#sk-container-id-9 div.sk-toggleable__content.fitted {\n  /* fitted */\n  background-color: var(--sklearn-color-fitted-level-0);\n}\n\n#sk-container-id-9 div.sk-toggleable__content pre {\n  margin: 0.2em;\n  border-radius: 0.25em;\n  color: var(--sklearn-color-text);\n  /* unfitted */\n  background-color: var(--sklearn-color-unfitted-level-0);\n}\n\n#sk-container-id-9 div.sk-toggleable__content.fitted pre {\n  /* unfitted */\n  background-color: var(--sklearn-color-fitted-level-0);\n}\n\n#sk-container-id-9 input.sk-toggleable__control:checked~div.sk-toggleable__content {\n  /* Expand drop-down */\n  max-height: 200px;\n  max-width: 100%;\n  overflow: auto;\n}\n\n#sk-container-id-9 input.sk-toggleable__control:checked~label.sk-toggleable__label-arrow:before {\n  content: \"▾\";\n}\n\n/* Pipeline/ColumnTransformer-specific style */\n\n#sk-container-id-9 div.sk-label input.sk-toggleable__control:checked~label.sk-toggleable__label {\n  color: var(--sklearn-color-text);\n  background-color: var(--sklearn-color-unfitted-level-2);\n}\n\n#sk-container-id-9 div.sk-label.fitted input.sk-toggleable__control:checked~label.sk-toggleable__label {\n  background-color: var(--sklearn-color-fitted-level-2);\n}\n\n/* Estimator-specific style */\n\n/* Colorize estimator box */\n#sk-container-id-9 div.sk-estimator input.sk-toggleable__control:checked~label.sk-toggleable__label {\n  /* unfitted */\n  background-color: var(--sklearn-color-unfitted-level-2);\n}\n\n#sk-container-id-9 div.sk-estimator.fitted input.sk-toggleable__control:checked~label.sk-toggleable__label {\n  /* fitted */\n  background-color: var(--sklearn-color-fitted-level-2);\n}\n\n#sk-container-id-9 div.sk-label label.sk-toggleable__label,\n#sk-container-id-9 div.sk-label label {\n  /* The background is the default theme color */\n  color: var(--sklearn-color-text-on-default-background);\n}\n\n/* On hover, darken the color of the background */\n#sk-container-id-9 div.sk-label:hover label.sk-toggleable__label {\n  color: var(--sklearn-color-text);\n  background-color: var(--sklearn-color-unfitted-level-2);\n}\n\n/* Label box, darken color on hover, fitted */\n#sk-container-id-9 div.sk-label.fitted:hover label.sk-toggleable__label.fitted {\n  color: var(--sklearn-color-text);\n  background-color: var(--sklearn-color-fitted-level-2);\n}\n\n/* Estimator label */\n\n#sk-container-id-9 div.sk-label label {\n  font-family: monospace;\n  font-weight: bold;\n  display: inline-block;\n  line-height: 1.2em;\n}\n\n#sk-container-id-9 div.sk-label-container {\n  text-align: center;\n}\n\n/* Estimator-specific */\n#sk-container-id-9 div.sk-estimator {\n  font-family: monospace;\n  border: 1px dotted var(--sklearn-color-border-box);\n  border-radius: 0.25em;\n  box-sizing: border-box;\n  margin-bottom: 0.5em;\n  /* unfitted */\n  background-color: var(--sklearn-color-unfitted-level-0);\n}\n\n#sk-container-id-9 div.sk-estimator.fitted {\n  /* fitted */\n  background-color: var(--sklearn-color-fitted-level-0);\n}\n\n/* on hover */\n#sk-container-id-9 div.sk-estimator:hover {\n  /* unfitted */\n  background-color: var(--sklearn-color-unfitted-level-2);\n}\n\n#sk-container-id-9 div.sk-estimator.fitted:hover {\n  /* fitted */\n  background-color: var(--sklearn-color-fitted-level-2);\n}\n\n/* Specification for estimator info (e.g. \"i\" and \"?\") */\n\n/* Common style for \"i\" and \"?\" */\n\n.sk-estimator-doc-link,\na:link.sk-estimator-doc-link,\na:visited.sk-estimator-doc-link {\n  float: right;\n  font-size: smaller;\n  line-height: 1em;\n  font-family: monospace;\n  background-color: var(--sklearn-color-background);\n  border-radius: 1em;\n  height: 1em;\n  width: 1em;\n  text-decoration: none !important;\n  margin-left: 0.5em;\n  text-align: center;\n  /* unfitted */\n  border: var(--sklearn-color-unfitted-level-1) 1pt solid;\n  color: var(--sklearn-color-unfitted-level-1);\n}\n\n.sk-estimator-doc-link.fitted,\na:link.sk-estimator-doc-link.fitted,\na:visited.sk-estimator-doc-link.fitted {\n  /* fitted */\n  border: var(--sklearn-color-fitted-level-1) 1pt solid;\n  color: var(--sklearn-color-fitted-level-1);\n}\n\n/* On hover */\ndiv.sk-estimator:hover .sk-estimator-doc-link:hover,\n.sk-estimator-doc-link:hover,\ndiv.sk-label-container:hover .sk-estimator-doc-link:hover,\n.sk-estimator-doc-link:hover {\n  /* unfitted */\n  background-color: var(--sklearn-color-unfitted-level-3);\n  color: var(--sklearn-color-background);\n  text-decoration: none;\n}\n\ndiv.sk-estimator.fitted:hover .sk-estimator-doc-link.fitted:hover,\n.sk-estimator-doc-link.fitted:hover,\ndiv.sk-label-container:hover .sk-estimator-doc-link.fitted:hover,\n.sk-estimator-doc-link.fitted:hover {\n  /* fitted */\n  background-color: var(--sklearn-color-fitted-level-3);\n  color: var(--sklearn-color-background);\n  text-decoration: none;\n}\n\n/* Span, style for the box shown on hovering the info icon */\n.sk-estimator-doc-link span {\n  display: none;\n  z-index: 9999;\n  position: relative;\n  font-weight: normal;\n  right: .2ex;\n  padding: .5ex;\n  margin: .5ex;\n  width: min-content;\n  min-width: 20ex;\n  max-width: 50ex;\n  color: var(--sklearn-color-text);\n  box-shadow: 2pt 2pt 4pt #999;\n  /* unfitted */\n  background: var(--sklearn-color-unfitted-level-0);\n  border: .5pt solid var(--sklearn-color-unfitted-level-3);\n}\n\n.sk-estimator-doc-link.fitted span {\n  /* fitted */\n  background: var(--sklearn-color-fitted-level-0);\n  border: var(--sklearn-color-fitted-level-3);\n}\n\n.sk-estimator-doc-link:hover span {\n  display: block;\n}\n\n/* \"?\"-specific style due to the `<a>` HTML tag */\n\n#sk-container-id-9 a.estimator_doc_link {\n  float: right;\n  font-size: 1rem;\n  line-height: 1em;\n  font-family: monospace;\n  background-color: var(--sklearn-color-background);\n  border-radius: 1rem;\n  height: 1rem;\n  width: 1rem;\n  text-decoration: none;\n  /* unfitted */\n  color: var(--sklearn-color-unfitted-level-1);\n  border: var(--sklearn-color-unfitted-level-1) 1pt solid;\n}\n\n#sk-container-id-9 a.estimator_doc_link.fitted {\n  /* fitted */\n  border: var(--sklearn-color-fitted-level-1) 1pt solid;\n  color: var(--sklearn-color-fitted-level-1);\n}\n\n/* On hover */\n#sk-container-id-9 a.estimator_doc_link:hover {\n  /* unfitted */\n  background-color: var(--sklearn-color-unfitted-level-3);\n  color: var(--sklearn-color-background);\n  text-decoration: none;\n}\n\n#sk-container-id-9 a.estimator_doc_link.fitted:hover {\n  /* fitted */\n  background-color: var(--sklearn-color-fitted-level-3);\n}\n</style><div id=\"sk-container-id-9\" class=\"sk-top-container\"><div class=\"sk-text-repr-fallback\"><pre>DecisionTreeClassifier()</pre><b>In a Jupyter environment, please rerun this cell to show the HTML representation or trust the notebook. <br />On GitHub, the HTML representation is unable to render, please try loading this page with nbviewer.org.</b></div><div class=\"sk-container\" hidden><div class=\"sk-item\"><div class=\"sk-estimator fitted sk-toggleable\"><input class=\"sk-toggleable__control sk-hidden--visually\" id=\"sk-estimator-id-9\" type=\"checkbox\" checked><label for=\"sk-estimator-id-9\" class=\"sk-toggleable__label fitted sk-toggleable__label-arrow\"><div><div>DecisionTreeClassifier</div></div><div><a class=\"sk-estimator-doc-link fitted\" rel=\"noreferrer\" target=\"_blank\" href=\"https://scikit-learn.org/1.6/modules/generated/sklearn.tree.DecisionTreeClassifier.html\">?<span>Documentation for DecisionTreeClassifier</span></a><span class=\"sk-estimator-doc-link fitted\">i<span>Fitted</span></span></div></label><div class=\"sk-toggleable__content fitted\"><pre>DecisionTreeClassifier()</pre></div> </div></div></div></div>"
     },
     "execution_count": 70,
     "metadata": {},
     "output_type": "execute_result"
    }
   ],
   "source": [
    "sgd_clf.fit(X_train, y_train_5)\n",
    "lgst_clf.fit(X_train, y_train_5)\n",
    "knn_clf.fit(X_train, y_train_5)\n",
    "svc_clf.fit(X_train, y_train_5)\n",
    "dtree_clf.fit(X_train, y_train_5)"
   ],
   "metadata": {
    "collapsed": false,
    "ExecuteTime": {
     "end_time": "2025-06-05T07:48:01.362651800Z",
     "start_time": "2025-06-05T07:48:01.191588400Z"
    }
   },
   "id": "24dbab3a29434af3",
   "execution_count": 70
  },
  {
   "cell_type": "markdown",
   "source": [],
   "metadata": {
    "collapsed": false
   },
   "id": "35fd0188a55c549e"
  },
  {
   "metadata": {
    "ExecuteTime": {
     "end_time": "2025-06-05T07:49:45.455135400Z",
     "start_time": "2025-06-05T07:49:45.345701200Z"
    }
   },
   "cell_type": "code",
   "source": [
    "from sklearn.model_selection import cross_val_predict\n",
    "pred_sgd_clf =  cross_val_predict(sgd_clf, X_train, y_train_5, cv = 3)\n",
    "pred_lgst_clf =  cross_val_predict(lgst_clf, X_train, y_train_5, cv = 3)\n",
    "pred_knn_clf =  cross_val_predict(knn_clf, X_train, y_train_5, cv = 3)\n",
    "pred_svc_clf =  cross_val_predict(svc_clf, X_train, y_train_5, cv = 3)\n",
    "pred_dtree_clf =  cross_val_predict(dtree_clf, X_train, y_train_5, cv = 3)"
   ],
   "id": "22ba73af65796be6",
   "outputs": [],
   "execution_count": 88
  },
  {
   "cell_type": "code",
   "outputs": [],
   "source": [
    "from sklearn.metrics import f1_score, precision_score, recall_score,accuracy_score"
   ],
   "metadata": {
    "collapsed": false,
    "ExecuteTime": {
     "end_time": "2025-06-05T07:53:53.564617900Z",
     "start_time": "2025-06-05T07:53:53.520046900Z"
    }
   },
   "id": "d632db3480e73377",
   "execution_count": 94
  },
  {
   "metadata": {
    "ExecuteTime": {
     "end_time": "2025-06-05T07:49:46.108994Z",
     "start_time": "2025-06-05T07:49:46.054801200Z"
    }
   },
   "cell_type": "code",
   "source": [
    "print(f\"sgd_clf f1 score is: {f1_score(y_train_5, pred_sgd_clf)}\")\n",
    "print(f\"lgst_clf f1 score is: {f1_score(y_train_5, pred_lgst_clf)}\")\n",
    "print(f\"knn_clf f1 score is: {f1_score(y_train_5, pred_knn_clf)}\")\n",
    "print(f\"svc_clf f1 score is: {f1_score(y_train_5, pred_svc_clf)}\")\n",
    "print(f\"dtree_clf f1 score is: {f1_score(y_train_5, pred_dtree_clf)}\")"
   ],
   "id": "6bcdc9e12a023a02",
   "outputs": [
    {
     "name": "stdout",
     "output_type": "stream",
     "text": [
      "sgd_clf f1 score is: 0.9565217391304348\n",
      "lgst_clf f1 score is: 1.0\n",
      "knn_clf f1 score is: 0.9278350515463918\n",
      "svc_clf f1 score is: 0.8256880733944955\n",
      "dtree_clf f1 score is: 1.0\n"
     ]
    }
   ],
   "execution_count": 90
  },
  {
   "metadata": {
    "ExecuteTime": {
     "end_time": "2025-06-05T07:49:47.143390300Z",
     "start_time": "2025-06-05T07:49:47.024930Z"
    }
   },
   "cell_type": "code",
   "source": [
    "print(f\"sgd_clf precision is: {precision_score(y_train_5, pred_sgd_clf)}\")\n",
    "print(f\"lgst_clf precision is: {precision_score(y_train_5, pred_lgst_clf)}\")\n",
    "print(f\"knn_clf precision is: {precision_score(y_train_5, pred_knn_clf)}\")\n",
    "print(f\"svc_clf precision is: {precision_score(y_train_5, pred_svc_clf)}\")\n",
    "print(f\"dtree_clf precision is: {precision_score(y_train_5, pred_dtree_clf)}\")"
   ],
   "id": "60f840da8032cfe4",
   "outputs": [
    {
     "name": "stdout",
     "output_type": "stream",
     "text": [
      "sgd_clf precision is: 0.9361702127659575\n",
      "lgst_clf precision is: 1.0\n",
      "knn_clf precision is: 0.8653846153846154\n",
      "svc_clf precision is: 0.703125\n",
      "dtree_clf precision is: 1.0\n"
     ]
    }
   ],
   "execution_count": 91
  },
  {
   "metadata": {
    "ExecuteTime": {
     "end_time": "2025-06-05T07:49:47.533307600Z",
     "start_time": "2025-06-05T07:49:47.502764800Z"
    }
   },
   "cell_type": "code",
   "outputs": [
    {
     "name": "stdout",
     "output_type": "stream",
     "text": [
      "sgd_clf recall score is: 0.9777777777777777\n",
      "lgst_clf recall score is: 1.0\n",
      "knn_clf recall score is: 1.0\n",
      "svc_clf recall score is: 1.0\n",
      "dtree_clf recall score is: 1.0\n"
     ]
    }
   ],
   "execution_count": 92,
   "source": [
    "print(f\"sgd_clf recall score is: {recall_score(y_train_5, pred_sgd_clf)}\")\n",
    "print(f\"lgst_clf recall score is: {recall_score(y_train_5, pred_lgst_clf)}\")\n",
    "print(f\"knn_clf recall score is: {recall_score(y_train_5, pred_knn_clf)}\")\n",
    "print(f\"svc_clf recall score is: {recall_score(y_train_5, pred_svc_clf)}\")\n",
    "print(f\"dtree_clf recall score is: {recall_score(y_train_5, pred_dtree_clf)}\")"
   ],
   "id": "7e428ff8c65f5588"
  },
  {
   "metadata": {},
   "cell_type": "markdown",
   "source": [
    "its a skewed dataset for now !"
   ],
   "id": "5f7a9bbcc57156d8"
  },
  {
   "cell_type": "code",
   "outputs": [
    {
     "name": "stdout",
     "output_type": "stream",
     "text": [
      "sgd_clf accuracy_score is: 0.98\n",
      "lgst_clf accuracy_score is: 1.0\n",
      "knn_clf accuracy_score is: 0.965\n",
      "svc_clf accuracy_score is: 0.905\n",
      "dtree_clf accuracy_score is: 1.0\n"
     ]
    }
   ],
   "source": [
    "print(f\"sgd_clf accuracy_score is: {accuracy_score(y_train_5, pred_sgd_clf)}\")\n",
    "print(f\"lgst_clf accuracy_score is: {accuracy_score(y_train_5, pred_lgst_clf)}\")\n",
    "print(f\"knn_clf accuracy_score is: {accuracy_score(y_train_5, pred_knn_clf)}\")\n",
    "print(f\"svc_clf accuracy_score is: {accuracy_score(y_train_5, pred_svc_clf)}\")\n",
    "print(f\"dtree_clf accuracy_score is: {accuracy_score(y_train_5, pred_dtree_clf)}\")"
   ],
   "metadata": {
    "collapsed": false,
    "ExecuteTime": {
     "end_time": "2025-06-05T07:53:56.150684100Z",
     "start_time": "2025-06-05T07:53:56.100539800Z"
    }
   },
   "id": "1b46306cef95f220",
   "execution_count": 95
  },
  {
   "metadata": {
    "ExecuteTime": {
     "end_time": "2025-06-05T08:26:59.494335Z",
     "start_time": "2025-06-05T08:26:59.412710700Z"
    }
   },
   "cell_type": "code",
   "source": [
    "pred_sgd_scores = cross_val_predict(sgd_clf, X_train, y_train_5, cv = 3, method='decision_function')\n",
    "pred_lgst_scores = cross_val_predict(lgst_clf, X_train, y_train_5, cv = 3, method='decision_function')\n",
    "pred_tree_scores = cross_val_predict(dtree_clf, X_train, y_train_5, cv = 3, method='predict_proba')\n"
   ],
   "id": "4a6e7cd2fcb0f93e",
   "outputs": [],
   "execution_count": 143
  },
  {
   "metadata": {
    "ExecuteTime": {
     "end_time": "2025-06-05T08:31:07.801076300Z",
     "start_time": "2025-06-05T08:31:07.662058300Z"
    }
   },
   "cell_type": "code",
   "source": [],
   "id": "4610e05d3c1e330d",
   "outputs": [],
   "execution_count": 145
  },
  {
   "cell_type": "code",
   "outputs": [
    {
     "name": "stdout",
     "output_type": "stream",
     "text": [
      "201\n",
      "201\n",
      "200\n"
     ]
    }
   ],
   "source": [
    "from sklearn.metrics import precision_recall_curve\n",
    "\n",
    "precisions, recalls, thresholds = precision_recall_curve(y_train_5, pred_sgd_scores)\n",
    "print(len(precisions))\n",
    "print(len(recalls))\n",
    "print(len(thresholds))"
   ],
   "metadata": {
    "collapsed": false,
    "ExecuteTime": {
     "end_time": "2025-06-05T08:40:22.645874200Z",
     "start_time": "2025-06-05T08:40:22.627849Z"
    }
   },
   "id": "f4c5bac1cf826be8",
   "execution_count": 154
  },
  {
   "metadata": {
    "ExecuteTime": {
     "end_time": "2025-06-05T08:40:29.394637700Z",
     "start_time": "2025-06-05T08:40:29.256763100Z"
    }
   },
   "cell_type": "code",
   "source": [
    "plt.plot(thresholds, precisions[:-1], \"b--\", label=\"Precision\", linewidth=2)\n",
    "plt.plot(thresholds, recalls[:-1], \"g-\", label=\"Recall\", linewidth=2)\n",
    "plt.vlines(0, 0, 1.0, \"k\", \"dotted\", label=\"threshold\")\n",
    "plt.show()"
   ],
   "id": "87ace18091104dd3",
   "outputs": [
    {
     "data": {
      "text/plain": "<Figure size 640x480 with 1 Axes>",
      "image/png": "[encoded data removed]"
     },
     "metadata": {},
     "output_type": "display_data"
    }
   ],
   "execution_count": 156
  },
  {
   "metadata": {
    "ExecuteTime": {
     "end_time": "2025-06-05T08:40:29.626408900Z",
     "start_time": "2025-06-05T08:40:29.500645200Z"
    }
   },
   "cell_type": "code",
   "outputs": [
    {
     "data": {
      "text/plain": "[<matplotlib.lines.Line2D at 0x2331ef18350>]"
     },
     "execution_count": 157,
     "metadata": {},
     "output_type": "execute_result"
    },
    {
     "data": {
      "text/plain": "<Figure size 640x480 with 1 Axes>",
      "image/png": "[encoded data removed]"
     },
     "metadata": {},
     "output_type": "display_data"
    }
   ],
   "execution_count": 157,
   "source": [
    "plt.plot(recalls, precisions, linewidth = 2)"
   ],
   "id": "20f6582c5b257dc0"
  },
  {
   "cell_type": "code",
   "outputs": [],
   "source": [
    "from sklearn.metrics import roc_curve\n",
    "fpr , tpr , thresholds = roc_curve(y_train_5,pred_sgd_scores )"
   ],
   "metadata": {
    "collapsed": false,
    "ExecuteTime": {
     "end_time": "2025-06-05T08:50:17.495417300Z",
     "start_time": "2025-06-05T08:50:17.456904800Z"
    }
   },
   "id": "cb0013e815b614c0",
   "execution_count": 158
  },
  {
   "cell_type": "code",
   "outputs": [
    {
     "data": {
      "text/plain": "[<matplotlib.lines.Line2D at 0x2331ebbb610>]"
     },
     "execution_count": 161,
     "metadata": {},
     "output_type": "execute_result"
    },
    {
     "data": {
      "text/plain": "<Figure size 640x480 with 1 Axes>",
      "image/png": "[encoded data removed]"
     },
     "metadata": {},
     "output_type": "display_data"
    }
   ],
   "source": [
    "plt.plot(fpr, tpr)"
   ],
   "metadata": {
    "collapsed": false,
    "ExecuteTime": {
     "end_time": "2025-06-05T08:50:48.010291300Z",
     "start_time": "2025-06-05T08:50:47.912502100Z"
    }
   },
   "id": "bf7ab63048fb9c94",
   "execution_count": 161
  },
  {
   "cell_type": "code",
   "outputs": [
    {
     "data": {
      "text/plain": "np.float64(0.9991397849462366)"
     },
     "execution_count": 163,
     "metadata": {},
     "output_type": "execute_result"
    }
   ],
   "source": [
    "from sklearn.metrics import roc_auc_score\n",
    "roc_auc_score(y_train_5, pred_sgd_scores )"
   ],
   "metadata": {
    "collapsed": false,
    "ExecuteTime": {
     "end_time": "2025-06-05T08:54:41.334425600Z",
     "start_time": "2025-06-05T08:54:41.271607300Z"
    }
   },
   "id": "ecbc2d7509761daa",
   "execution_count": 163
  },
  {
   "cell_type": "code",
   "outputs": [],
   "source": [],
   "metadata": {
    "collapsed": false
   },
   "id": "606dcb82a431048b"
  }
 ],
 "metadata": {
  "kernelspec": {
   "display_name": "Python 3",
   "language": "python",
   "name": "python3"
  },
  "language_info": {
   "codemirror_mode": {
    "name": "ipython",
    "version": 2
   },
   "file_extension": ".py",
   "mimetype": "text/x-python",
   "name": "python",
   "nbconvert_exporter": "python",
   "pygments_lexer": "ipython2",
   "version": "2.7.6"
  }
 },
 "nbformat": 4,
 "nbformat_minor": 5
}
